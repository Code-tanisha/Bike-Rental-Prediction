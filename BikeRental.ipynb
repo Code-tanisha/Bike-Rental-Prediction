{
  "nbformat": 4,
  "nbformat_minor": 0,
  "metadata": {
    "colab": {
      "name": "BikeRental.ipynb",
      "provenance": [],
      "collapsed_sections": [],
      "include_colab_link": true
    },
    "kernelspec": {
      "name": "python3",
      "display_name": "Python 3"
    }
  },
  "cells": [
    {
      "cell_type": "markdown",
      "metadata": {
        "id": "view-in-github",
        "colab_type": "text"
      },
      "source": [
        "<a href=\"https://colab.research.google.com/github/Tanisha2910/Bike-Rental-Prediction/blob/master/BikeRental.ipynb\" target=\"_parent\"><img src=\"https://colab.research.google.com/assets/colab-badge.svg\" alt=\"Open In Colab\"/></a>"
      ]
    },
    {
      "cell_type": "code",
      "metadata": {
        "id": "W1OkmXd5AKsy",
        "colab_type": "code",
        "colab": {}
      },
      "source": [
        "import io\n",
        "import os\n",
        "import pandas as pd\n",
        "import numpy as np\n",
        "import matplotlib.pyplot as plt\n",
        "import seaborn as sns\n",
        "from scipy import stats\n",
        "from scipy.stats import chi2_contingency\n",
        "from sklearn.ensemble import RandomForestClassifier\n",
        "# from sklearn import cross validation\n",
        "% matplotlib inline\n",
        "\n"
      ],
      "execution_count": 0,
      "outputs": []
    },
    {
      "cell_type": "code",
      "metadata": {
        "id": "bHBD403WBPgm",
        "colab_type": "code",
        "colab": {
          "resources": {
            "http://localhost:8080/nbextensions/google.colab/files.js": {
              "data": "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",
              "ok": true,
              "headers": [
                [
                  "content-type",
                  "application/javascript"
                ]
              ],
              "status": 200,
              "status_text": ""
            }
          },
          "base_uri": "https://localhost:8080/",
          "height": 75
        },
        "outputId": "6be6cc60-665f-482e-de76-8cfca7fdaff2"
      },
      "source": [
        "from google.colab import files\n",
        "uploaded = files.upload()"
      ],
      "execution_count": 2,
      "outputs": [
        {
          "output_type": "display_data",
          "data": {
            "text/html": [
              "\n",
              "     <input type=\"file\" id=\"files-87e16a2a-a16a-475e-8a7e-2726843bc687\" name=\"files[]\" multiple disabled />\n",
              "     <output id=\"result-87e16a2a-a16a-475e-8a7e-2726843bc687\">\n",
              "      Upload widget is only available when the cell has been executed in the\n",
              "      current browser session. Please rerun this cell to enable.\n",
              "      </output>\n",
              "      <script src=\"/nbextensions/google.colab/files.js\"></script> "
            ],
            "text/plain": [
              "<IPython.core.display.HTML object>"
            ]
          },
          "metadata": {
            "tags": []
          }
        },
        {
          "output_type": "stream",
          "text": [
            "Saving day.csv to day.csv\n"
          ],
          "name": "stdout"
        }
      ]
    },
    {
      "cell_type": "code",
      "metadata": {
        "id": "doDMQTEUBf66",
        "colab_type": "code",
        "colab": {}
      },
      "source": [
        "df = pd.read_csv(io.BytesIO(uploaded['day.csv']))"
      ],
      "execution_count": 0,
      "outputs": []
    },
    {
      "cell_type": "code",
      "metadata": {
        "id": "gRCLe33iBqv8",
        "colab_type": "code",
        "colab": {
          "base_uri": "https://localhost:8080/",
          "height": 194
        },
        "outputId": "cf0efb5f-24d1-4be6-9931-bcaaf5c8c5e3"
      },
      "source": [
        "# print the head of the data\n",
        "df.head()"
      ],
      "execution_count": 4,
      "outputs": [
        {
          "output_type": "execute_result",
          "data": {
            "text/html": [
              "<div>\n",
              "<style scoped>\n",
              "    .dataframe tbody tr th:only-of-type {\n",
              "        vertical-align: middle;\n",
              "    }\n",
              "\n",
              "    .dataframe tbody tr th {\n",
              "        vertical-align: top;\n",
              "    }\n",
              "\n",
              "    .dataframe thead th {\n",
              "        text-align: right;\n",
              "    }\n",
              "</style>\n",
              "<table border=\"1\" class=\"dataframe\">\n",
              "  <thead>\n",
              "    <tr style=\"text-align: right;\">\n",
              "      <th></th>\n",
              "      <th>instant</th>\n",
              "      <th>dteday</th>\n",
              "      <th>season</th>\n",
              "      <th>yr</th>\n",
              "      <th>mnth</th>\n",
              "      <th>holiday</th>\n",
              "      <th>weekday</th>\n",
              "      <th>workingday</th>\n",
              "      <th>weathersit</th>\n",
              "      <th>temp</th>\n",
              "      <th>atemp</th>\n",
              "      <th>hum</th>\n",
              "      <th>windspeed</th>\n",
              "      <th>casual</th>\n",
              "      <th>registered</th>\n",
              "      <th>cnt</th>\n",
              "    </tr>\n",
              "  </thead>\n",
              "  <tbody>\n",
              "    <tr>\n",
              "      <th>0</th>\n",
              "      <td>1</td>\n",
              "      <td>2011-01-01</td>\n",
              "      <td>1</td>\n",
              "      <td>0</td>\n",
              "      <td>1</td>\n",
              "      <td>0</td>\n",
              "      <td>6</td>\n",
              "      <td>0</td>\n",
              "      <td>2</td>\n",
              "      <td>0.344167</td>\n",
              "      <td>0.363625</td>\n",
              "      <td>0.805833</td>\n",
              "      <td>0.160446</td>\n",
              "      <td>331</td>\n",
              "      <td>654</td>\n",
              "      <td>985</td>\n",
              "    </tr>\n",
              "    <tr>\n",
              "      <th>1</th>\n",
              "      <td>2</td>\n",
              "      <td>2011-01-02</td>\n",
              "      <td>1</td>\n",
              "      <td>0</td>\n",
              "      <td>1</td>\n",
              "      <td>0</td>\n",
              "      <td>0</td>\n",
              "      <td>0</td>\n",
              "      <td>2</td>\n",
              "      <td>0.363478</td>\n",
              "      <td>0.353739</td>\n",
              "      <td>0.696087</td>\n",
              "      <td>0.248539</td>\n",
              "      <td>131</td>\n",
              "      <td>670</td>\n",
              "      <td>801</td>\n",
              "    </tr>\n",
              "    <tr>\n",
              "      <th>2</th>\n",
              "      <td>3</td>\n",
              "      <td>2011-01-03</td>\n",
              "      <td>1</td>\n",
              "      <td>0</td>\n",
              "      <td>1</td>\n",
              "      <td>0</td>\n",
              "      <td>1</td>\n",
              "      <td>1</td>\n",
              "      <td>1</td>\n",
              "      <td>0.196364</td>\n",
              "      <td>0.189405</td>\n",
              "      <td>0.437273</td>\n",
              "      <td>0.248309</td>\n",
              "      <td>120</td>\n",
              "      <td>1229</td>\n",
              "      <td>1349</td>\n",
              "    </tr>\n",
              "    <tr>\n",
              "      <th>3</th>\n",
              "      <td>4</td>\n",
              "      <td>2011-01-04</td>\n",
              "      <td>1</td>\n",
              "      <td>0</td>\n",
              "      <td>1</td>\n",
              "      <td>0</td>\n",
              "      <td>2</td>\n",
              "      <td>1</td>\n",
              "      <td>1</td>\n",
              "      <td>0.200000</td>\n",
              "      <td>0.212122</td>\n",
              "      <td>0.590435</td>\n",
              "      <td>0.160296</td>\n",
              "      <td>108</td>\n",
              "      <td>1454</td>\n",
              "      <td>1562</td>\n",
              "    </tr>\n",
              "    <tr>\n",
              "      <th>4</th>\n",
              "      <td>5</td>\n",
              "      <td>2011-01-05</td>\n",
              "      <td>1</td>\n",
              "      <td>0</td>\n",
              "      <td>1</td>\n",
              "      <td>0</td>\n",
              "      <td>3</td>\n",
              "      <td>1</td>\n",
              "      <td>1</td>\n",
              "      <td>0.226957</td>\n",
              "      <td>0.229270</td>\n",
              "      <td>0.436957</td>\n",
              "      <td>0.186900</td>\n",
              "      <td>82</td>\n",
              "      <td>1518</td>\n",
              "      <td>1600</td>\n",
              "    </tr>\n",
              "  </tbody>\n",
              "</table>\n",
              "</div>"
            ],
            "text/plain": [
              "   instant      dteday  season  yr  ...  windspeed  casual  registered   cnt\n",
              "0        1  2011-01-01       1   0  ...   0.160446     331         654   985\n",
              "1        2  2011-01-02       1   0  ...   0.248539     131         670   801\n",
              "2        3  2011-01-03       1   0  ...   0.248309     120        1229  1349\n",
              "3        4  2011-01-04       1   0  ...   0.160296     108        1454  1562\n",
              "4        5  2011-01-05       1   0  ...   0.186900      82        1518  1600\n",
              "\n",
              "[5 rows x 16 columns]"
            ]
          },
          "metadata": {
            "tags": []
          },
          "execution_count": 4
        }
      ]
    },
    {
      "cell_type": "markdown",
      "metadata": {
        "id": "cztogOqxB9Ju",
        "colab_type": "text"
      },
      "source": [
        "**EXPLORATORY DATA ANALYSIS**"
      ]
    },
    {
      "cell_type": "code",
      "metadata": {
        "id": "JBgZ6PsSBzn7",
        "colab_type": "code",
        "colab": {
          "base_uri": "https://localhost:8080/",
          "height": 35
        },
        "outputId": "dd1b7343-ddb3-4831-fecc-7953b38602a7"
      },
      "source": [
        "# understanding the data\n",
        "df.shape\n"
      ],
      "execution_count": 5,
      "outputs": [
        {
          "output_type": "execute_result",
          "data": {
            "text/plain": [
              "(731, 16)"
            ]
          },
          "metadata": {
            "tags": []
          },
          "execution_count": 5
        }
      ]
    },
    {
      "cell_type": "code",
      "metadata": {
        "id": "yW7kwh68CLZj",
        "colab_type": "code",
        "colab": {
          "base_uri": "https://localhost:8080/",
          "height": 282
        },
        "outputId": "386d5a47-a58c-4e3b-f4da-7b512fb3c530"
      },
      "source": [
        "df.describe()"
      ],
      "execution_count": 7,
      "outputs": [
        {
          "output_type": "execute_result",
          "data": {
            "text/html": [
              "<div>\n",
              "<style scoped>\n",
              "    .dataframe tbody tr th:only-of-type {\n",
              "        vertical-align: middle;\n",
              "    }\n",
              "\n",
              "    .dataframe tbody tr th {\n",
              "        vertical-align: top;\n",
              "    }\n",
              "\n",
              "    .dataframe thead th {\n",
              "        text-align: right;\n",
              "    }\n",
              "</style>\n",
              "<table border=\"1\" class=\"dataframe\">\n",
              "  <thead>\n",
              "    <tr style=\"text-align: right;\">\n",
              "      <th></th>\n",
              "      <th>instant</th>\n",
              "      <th>season</th>\n",
              "      <th>yr</th>\n",
              "      <th>mnth</th>\n",
              "      <th>holiday</th>\n",
              "      <th>weekday</th>\n",
              "      <th>workingday</th>\n",
              "      <th>weathersit</th>\n",
              "      <th>temp</th>\n",
              "      <th>atemp</th>\n",
              "      <th>hum</th>\n",
              "      <th>windspeed</th>\n",
              "      <th>casual</th>\n",
              "      <th>registered</th>\n",
              "      <th>cnt</th>\n",
              "    </tr>\n",
              "  </thead>\n",
              "  <tbody>\n",
              "    <tr>\n",
              "      <th>count</th>\n",
              "      <td>731.000000</td>\n",
              "      <td>731.000000</td>\n",
              "      <td>731.000000</td>\n",
              "      <td>731.000000</td>\n",
              "      <td>731.000000</td>\n",
              "      <td>731.000000</td>\n",
              "      <td>731.000000</td>\n",
              "      <td>731.000000</td>\n",
              "      <td>731.000000</td>\n",
              "      <td>731.000000</td>\n",
              "      <td>731.000000</td>\n",
              "      <td>731.000000</td>\n",
              "      <td>731.000000</td>\n",
              "      <td>731.000000</td>\n",
              "      <td>731.000000</td>\n",
              "    </tr>\n",
              "    <tr>\n",
              "      <th>mean</th>\n",
              "      <td>366.000000</td>\n",
              "      <td>2.496580</td>\n",
              "      <td>0.500684</td>\n",
              "      <td>6.519836</td>\n",
              "      <td>0.028728</td>\n",
              "      <td>2.997264</td>\n",
              "      <td>0.683995</td>\n",
              "      <td>1.395349</td>\n",
              "      <td>0.495385</td>\n",
              "      <td>0.474354</td>\n",
              "      <td>0.627894</td>\n",
              "      <td>0.190486</td>\n",
              "      <td>848.176471</td>\n",
              "      <td>3656.172367</td>\n",
              "      <td>4504.348837</td>\n",
              "    </tr>\n",
              "    <tr>\n",
              "      <th>std</th>\n",
              "      <td>211.165812</td>\n",
              "      <td>1.110807</td>\n",
              "      <td>0.500342</td>\n",
              "      <td>3.451913</td>\n",
              "      <td>0.167155</td>\n",
              "      <td>2.004787</td>\n",
              "      <td>0.465233</td>\n",
              "      <td>0.544894</td>\n",
              "      <td>0.183051</td>\n",
              "      <td>0.162961</td>\n",
              "      <td>0.142429</td>\n",
              "      <td>0.077498</td>\n",
              "      <td>686.622488</td>\n",
              "      <td>1560.256377</td>\n",
              "      <td>1937.211452</td>\n",
              "    </tr>\n",
              "    <tr>\n",
              "      <th>min</th>\n",
              "      <td>1.000000</td>\n",
              "      <td>1.000000</td>\n",
              "      <td>0.000000</td>\n",
              "      <td>1.000000</td>\n",
              "      <td>0.000000</td>\n",
              "      <td>0.000000</td>\n",
              "      <td>0.000000</td>\n",
              "      <td>1.000000</td>\n",
              "      <td>0.059130</td>\n",
              "      <td>0.079070</td>\n",
              "      <td>0.000000</td>\n",
              "      <td>0.022392</td>\n",
              "      <td>2.000000</td>\n",
              "      <td>20.000000</td>\n",
              "      <td>22.000000</td>\n",
              "    </tr>\n",
              "    <tr>\n",
              "      <th>25%</th>\n",
              "      <td>183.500000</td>\n",
              "      <td>2.000000</td>\n",
              "      <td>0.000000</td>\n",
              "      <td>4.000000</td>\n",
              "      <td>0.000000</td>\n",
              "      <td>1.000000</td>\n",
              "      <td>0.000000</td>\n",
              "      <td>1.000000</td>\n",
              "      <td>0.337083</td>\n",
              "      <td>0.337842</td>\n",
              "      <td>0.520000</td>\n",
              "      <td>0.134950</td>\n",
              "      <td>315.500000</td>\n",
              "      <td>2497.000000</td>\n",
              "      <td>3152.000000</td>\n",
              "    </tr>\n",
              "    <tr>\n",
              "      <th>50%</th>\n",
              "      <td>366.000000</td>\n",
              "      <td>3.000000</td>\n",
              "      <td>1.000000</td>\n",
              "      <td>7.000000</td>\n",
              "      <td>0.000000</td>\n",
              "      <td>3.000000</td>\n",
              "      <td>1.000000</td>\n",
              "      <td>1.000000</td>\n",
              "      <td>0.498333</td>\n",
              "      <td>0.486733</td>\n",
              "      <td>0.626667</td>\n",
              "      <td>0.180975</td>\n",
              "      <td>713.000000</td>\n",
              "      <td>3662.000000</td>\n",
              "      <td>4548.000000</td>\n",
              "    </tr>\n",
              "    <tr>\n",
              "      <th>75%</th>\n",
              "      <td>548.500000</td>\n",
              "      <td>3.000000</td>\n",
              "      <td>1.000000</td>\n",
              "      <td>10.000000</td>\n",
              "      <td>0.000000</td>\n",
              "      <td>5.000000</td>\n",
              "      <td>1.000000</td>\n",
              "      <td>2.000000</td>\n",
              "      <td>0.655417</td>\n",
              "      <td>0.608602</td>\n",
              "      <td>0.730209</td>\n",
              "      <td>0.233214</td>\n",
              "      <td>1096.000000</td>\n",
              "      <td>4776.500000</td>\n",
              "      <td>5956.000000</td>\n",
              "    </tr>\n",
              "    <tr>\n",
              "      <th>max</th>\n",
              "      <td>731.000000</td>\n",
              "      <td>4.000000</td>\n",
              "      <td>1.000000</td>\n",
              "      <td>12.000000</td>\n",
              "      <td>1.000000</td>\n",
              "      <td>6.000000</td>\n",
              "      <td>1.000000</td>\n",
              "      <td>3.000000</td>\n",
              "      <td>0.861667</td>\n",
              "      <td>0.840896</td>\n",
              "      <td>0.972500</td>\n",
              "      <td>0.507463</td>\n",
              "      <td>3410.000000</td>\n",
              "      <td>6946.000000</td>\n",
              "      <td>8714.000000</td>\n",
              "    </tr>\n",
              "  </tbody>\n",
              "</table>\n",
              "</div>"
            ],
            "text/plain": [
              "          instant      season  ...   registered          cnt\n",
              "count  731.000000  731.000000  ...   731.000000   731.000000\n",
              "mean   366.000000    2.496580  ...  3656.172367  4504.348837\n",
              "std    211.165812    1.110807  ...  1560.256377  1937.211452\n",
              "min      1.000000    1.000000  ...    20.000000    22.000000\n",
              "25%    183.500000    2.000000  ...  2497.000000  3152.000000\n",
              "50%    366.000000    3.000000  ...  3662.000000  4548.000000\n",
              "75%    548.500000    3.000000  ...  4776.500000  5956.000000\n",
              "max    731.000000    4.000000  ...  6946.000000  8714.000000\n",
              "\n",
              "[8 rows x 15 columns]"
            ]
          },
          "metadata": {
            "tags": []
          },
          "execution_count": 7
        }
      ]
    },
    {
      "cell_type": "code",
      "metadata": {
        "id": "Cz_-Q_Y_CPsG",
        "colab_type": "code",
        "colab": {
          "base_uri": "https://localhost:8080/",
          "height": 390
        },
        "outputId": "6f8e0d01-7b9c-48ee-8ee4-424634722f2e"
      },
      "source": [
        "df.info()\n",
        "\n",
        "# data consist of Integer, float and Object(categorical) variables"
      ],
      "execution_count": 8,
      "outputs": [
        {
          "output_type": "stream",
          "text": [
            "<class 'pandas.core.frame.DataFrame'>\n",
            "RangeIndex: 731 entries, 0 to 730\n",
            "Data columns (total 16 columns):\n",
            "instant       731 non-null int64\n",
            "dteday        731 non-null object\n",
            "season        731 non-null int64\n",
            "yr            731 non-null int64\n",
            "mnth          731 non-null int64\n",
            "holiday       731 non-null int64\n",
            "weekday       731 non-null int64\n",
            "workingday    731 non-null int64\n",
            "weathersit    731 non-null int64\n",
            "temp          731 non-null float64\n",
            "atemp         731 non-null float64\n",
            "hum           731 non-null float64\n",
            "windspeed     731 non-null float64\n",
            "casual        731 non-null int64\n",
            "registered    731 non-null int64\n",
            "cnt           731 non-null int64\n",
            "dtypes: float64(4), int64(11), object(1)\n",
            "memory usage: 91.5+ KB\n"
          ],
          "name": "stdout"
        }
      ]
    },
    {
      "cell_type": "markdown",
      "metadata": {
        "id": "qGL-QOpZCtNq",
        "colab_type": "text"
      },
      "source": [
        "UNIVARIATE ANALYSIS"
      ]
    },
    {
      "cell_type": "code",
      "metadata": {
        "id": "1ImyJvOdCsKO",
        "colab_type": "code",
        "colab": {
          "base_uri": "https://localhost:8080/",
          "height": 177
        },
        "outputId": "a3af3af1-229e-4daa-fbda-82a7fd89c1c8"
      },
      "source": [
        "# Target variable analysis\n",
        "\n",
        "# describe statistics summary\n",
        "df['cnt'].describe()\n"
      ],
      "execution_count": 9,
      "outputs": [
        {
          "output_type": "execute_result",
          "data": {
            "text/plain": [
              "count     731.000000\n",
              "mean     4504.348837\n",
              "std      1937.211452\n",
              "min        22.000000\n",
              "25%      3152.000000\n",
              "50%      4548.000000\n",
              "75%      5956.000000\n",
              "max      8714.000000\n",
              "Name: cnt, dtype: float64"
            ]
          },
          "metadata": {
            "tags": []
          },
          "execution_count": 9
        }
      ]
    },
    {
      "cell_type": "code",
      "metadata": {
        "id": "sXa7a8VZDaB-",
        "colab_type": "code",
        "colab": {
          "base_uri": "https://localhost:8080/",
          "height": 300
        },
        "outputId": "dee4ca68-aa01-4442-d41a-f75f1ee95085"
      },
      "source": [
        "# check whether the target variable is normal or not\n",
        "sns.distplot(df['cnt'])\n",
        "\n",
        "# Target variable cnt is normally distributed"
      ],
      "execution_count": 10,
      "outputs": [
        {
          "output_type": "execute_result",
          "data": {
            "text/plain": [
              "<matplotlib.axes._subplots.AxesSubplot at 0x7f82bb48ab38>"
            ]
          },
          "metadata": {
            "tags": []
          },
          "execution_count": 10
        },
        {
          "output_type": "display_data",
          "data": {
            "image/png": "[encoded data removed]",
            "text/plain": [
              "<Figure size 432x288 with 1 Axes>"
            ]
          },
          "metadata": {
            "tags": []
          }
        }
      ]
    },
    {
      "cell_type": "code",
      "metadata": {
        "id": "NuPj4S9sDkBB",
        "colab_type": "code",
        "colab": {
          "base_uri": "https://localhost:8080/",
          "height": 283
        },
        "outputId": "3f060077-d29a-437f-ec10-791e12401717"
      },
      "source": [
        "# Distribution of independent numeric variables\n",
        "# cheq whether variable temp is normal or not\n",
        "sns.distplot(df['temp']);\n"
      ],
      "execution_count": 11,
      "outputs": [
        {
          "output_type": "display_data",
          "data": {
            "image/png": "[encoded data removed]",
            "text/plain": [
              "<Figure size 432x288 with 1 Axes>"
            ]
          },
          "metadata": {
            "tags": []
          }
        }
      ]
    },
    {
      "cell_type": "code",
      "metadata": {
        "id": "bcTlUmK1EEUy",
        "colab_type": "code",
        "colab": {
          "base_uri": "https://localhost:8080/",
          "height": 283
        },
        "outputId": "7749f42c-b955-47c3-9641-67d40df4b8bd"
      },
      "source": [
        "#  cheq whether variable atemp is normal or not\n",
        "sns.distplot(df['atemp']);\n"
      ],
      "execution_count": 12,
      "outputs": [
        {
          "output_type": "display_data",
          "data": {
            "image/png": "[encoded data removed]",
            "text/plain": [
              "<Figure size 432x288 with 1 Axes>"
            ]
          },
          "metadata": {
            "tags": []
          }
        }
      ]
    },
    {
      "cell_type": "code",
      "metadata": {
        "id": "KdixnRlUI0MG",
        "colab_type": "code",
        "colab": {
          "base_uri": "https://localhost:8080/",
          "height": 300
        },
        "outputId": "134029eb-5f0d-47fd-8f94-be2588ee8d30"
      },
      "source": [
        "# check whether hum variable is normal or not\n",
        "sns.distplot(df['hum']) \n",
        "\n",
        "# this seems slightly skewed to the left"
      ],
      "execution_count": 13,
      "outputs": [
        {
          "output_type": "execute_result",
          "data": {
            "text/plain": [
              "<matplotlib.axes._subplots.AxesSubplot at 0x7f82b8ab6908>"
            ]
          },
          "metadata": {
            "tags": []
          },
          "execution_count": 13
        },
        {
          "output_type": "display_data",
          "data": {
            "image/png": "[encoded data removed]",
            "text/plain": [
              "<Figure size 432x288 with 1 Axes>"
            ]
          },
          "metadata": {
            "tags": []
          }
        }
      ]
    },
    {
      "cell_type": "code",
      "metadata": {
        "id": "jwN8WEouJIRJ",
        "colab_type": "code",
        "colab": {
          "base_uri": "https://localhost:8080/",
          "height": 300
        },
        "outputId": "dc828514-a1c4-455f-975c-e7d6f55b08bf"
      },
      "source": [
        "# check whether windspleed variable is normal or not\n",
        "sns.distplot(df['windspeed'])"
      ],
      "execution_count": 14,
      "outputs": [
        {
          "output_type": "execute_result",
          "data": {
            "text/plain": [
              "<matplotlib.axes._subplots.AxesSubplot at 0x7f82b89f0ef0>"
            ]
          },
          "metadata": {
            "tags": []
          },
          "execution_count": 14
        },
        {
          "output_type": "display_data",
          "data": {
            "image/png": "[encoded data removed]",
            "text/plain": [
              "<Figure size 432x288 with 1 Axes>"
            ]
          },
          "metadata": {
            "tags": []
          }
        }
      ]
    },
    {
      "cell_type": "code",
      "metadata": {
        "id": "hqLpmnCcJe3t",
        "colab_type": "code",
        "colab": {
          "base_uri": "https://localhost:8080/",
          "height": 300
        },
        "outputId": "57108655-e286-4894-d450-2f9f889c72a9"
      },
      "source": [
        "# check whether casual variable is normal or not\n",
        "sns.distplot(df['casual'])\n",
        "\n",
        "# this seems slightly skewed to the right\n",
        "# this means that the chances of outliers are present in casual"
      ],
      "execution_count": 15,
      "outputs": [
        {
          "output_type": "execute_result",
          "data": {
            "text/plain": [
              "<matplotlib.axes._subplots.AxesSubplot at 0x7f82b8953d30>"
            ]
          },
          "metadata": {
            "tags": []
          },
          "execution_count": 15
        },
        {
          "output_type": "display_data",
          "data": {
            "image/png": "[encoded data removed]",
            "text/plain": [
              "<Figure size 432x288 with 1 Axes>"
            ]
          },
          "metadata": {
            "tags": []
          }
        }
      ]
    },
    {
      "cell_type": "code",
      "metadata": {
        "id": "td6jNT7oJrfW",
        "colab_type": "code",
        "colab": {
          "base_uri": "https://localhost:8080/",
          "height": 300
        },
        "outputId": "1d970fcc-5339-4a15-a004-ede3bba5790a"
      },
      "source": [
        "# check whether registeredvariable is normal or not\n",
        "sns.distplot(df['registered'])\n",
        "\n",
        "# this seems normally distributed"
      ],
      "execution_count": 16,
      "outputs": [
        {
          "output_type": "execute_result",
          "data": {
            "text/plain": [
              "<matplotlib.axes._subplots.AxesSubplot at 0x7f82b8a0eb70>"
            ]
          },
          "metadata": {
            "tags": []
          },
          "execution_count": 16
        },
        {
          "output_type": "display_data",
          "data": {
            "image/png": "[encoded data removed]",
            "text/plain": [
              "<Figure size 432x288 with 1 Axes>"
            ]
          },
          "metadata": {
            "tags": []
          }
        }
      ]
    },
    {
      "cell_type": "code",
      "metadata": {
        "id": "lcgdoy5pJ4qJ",
        "colab_type": "code",
        "colab": {
          "base_uri": "https://localhost:8080/",
          "height": 52
        },
        "outputId": "30b40c95-6fba-48bb-d5f8-fdff86d7e487"
      },
      "source": [
        "print(\"Skewness: %f\" % df['cnt'].skew())\n",
        "print(\"Kurtosis: %f\" % df['cnt'].kurt())\n",
        "\n",
        "# Here Skewness is very less so target variable is normally distributed"
      ],
      "execution_count": 17,
      "outputs": [
        {
          "output_type": "stream",
          "text": [
            "Skewness: -0.047353\n",
            "Kurtosis: -0.811922\n"
          ],
          "name": "stdout"
        }
      ]
    },
    {
      "cell_type": "markdown",
      "metadata": {
        "id": "jcLD3vvENlQ8",
        "colab_type": "text"
      },
      "source": [
        "BIVARIATE ANALYSIS"
      ]
    },
    {
      "cell_type": "code",
      "metadata": {
        "id": "xgNB4nISNjyR",
        "colab_type": "code",
        "colab": {
          "base_uri": "https://localhost:8080/",
          "height": 1000
        },
        "outputId": "72607337-0fce-480d-a48a-d4fb243d0213"
      },
      "source": [
        "# Relation between numerical variable temp and target variable cnt\n",
        "df['temp'].value_counts()"
      ],
      "execution_count": 18,
      "outputs": [
        {
          "output_type": "execute_result",
          "data": {
            "text/plain": [
              "0.265833    5\n",
              "0.635000    5\n",
              "0.437500    4\n",
              "0.564167    4\n",
              "0.649167    4\n",
              "0.484167    4\n",
              "0.680000    4\n",
              "0.696667    4\n",
              "0.710833    4\n",
              "0.514167    3\n",
              "0.282500    3\n",
              "0.667500    3\n",
              "0.459167    3\n",
              "0.554167    3\n",
              "0.733333    3\n",
              "0.636667    3\n",
              "0.606667    3\n",
              "0.342500    3\n",
              "0.731667    3\n",
              "0.653333    3\n",
              "0.393333    3\n",
              "0.530000    3\n",
              "0.343333    3\n",
              "0.414167    3\n",
              "0.353333    3\n",
              "0.577500    3\n",
              "0.775000    3\n",
              "0.715833    3\n",
              "0.274167    3\n",
              "0.550000    3\n",
              "           ..\n",
              "0.834167    1\n",
              "0.381667    1\n",
              "0.346667    1\n",
              "0.765833    1\n",
              "0.640833    1\n",
              "0.415833    1\n",
              "0.545000    1\n",
              "0.359167    1\n",
              "0.365833    1\n",
              "0.623333    1\n",
              "0.160870    1\n",
              "0.365217    1\n",
              "0.712500    1\n",
              "0.348696    1\n",
              "0.096522    1\n",
              "0.538333    1\n",
              "0.361667    1\n",
              "0.715000    1\n",
              "0.711667    1\n",
              "0.343478    1\n",
              "0.335833    1\n",
              "0.570000    1\n",
              "0.282609    1\n",
              "0.396667    1\n",
              "0.404167    1\n",
              "0.226957    1\n",
              "0.354167    1\n",
              "0.580833    1\n",
              "0.231667    1\n",
              "0.337500    1\n",
              "Name: temp, Length: 499, dtype: int64"
            ]
          },
          "metadata": {
            "tags": []
          },
          "execution_count": 18
        }
      ]
    },
    {
      "cell_type": "code",
      "metadata": {
        "id": "tyzcms5LOTiz",
        "colab_type": "code",
        "colab": {
          "base_uri": "https://localhost:8080/",
          "height": 300
        },
        "outputId": "93e25b75-2f67-47ef-915b-5765bcf3cd24"
      },
      "source": [
        "# Now draw scatter plot between 'temp' and 'cnt' variables\n",
        "var = 'temp'\n",
        "data = pd.concat([df['cnt'], df[var]], axis = 1)\n",
        "data.plot.scatter(x = var, y = 'cnt', ylim = (0,9000))"
      ],
      "execution_count": 19,
      "outputs": [
        {
          "output_type": "execute_result",
          "data": {
            "text/plain": [
              "<matplotlib.axes._subplots.AxesSubplot at 0x7f82b886a550>"
            ]
          },
          "metadata": {
            "tags": []
          },
          "execution_count": 19
        },
        {
          "output_type": "display_data",
          "data": {
            "image/png": "[encoded data removed]",
            "text/plain": [
              "<Figure size 432x288 with 1 Axes>"
            ]
          },
          "metadata": {
            "tags": []
          }
        }
      ]
    },
    {
      "cell_type": "code",
      "metadata": {
        "id": "Nn9tnu1qQ15a",
        "colab_type": "code",
        "colab": {
          "base_uri": "https://localhost:8080/",
          "height": 1000
        },
        "outputId": "ff169347-7cb2-4059-cd43-2d0a6b403f61"
      },
      "source": [
        "# Relationship between Numerical cariable 'hum' and target variable 'cnt'\n",
        "df['hum'].value_counts()"
      ],
      "execution_count": 20,
      "outputs": [
        {
          "output_type": "execute_result",
          "data": {
            "text/plain": [
              "0.613333    4\n",
              "0.568333    3\n",
              "0.542500    3\n",
              "0.752917    3\n",
              "0.697083    3\n",
              "0.630833    3\n",
              "0.605000    3\n",
              "0.590000    3\n",
              "0.690000    3\n",
              "0.729583    3\n",
              "0.741250    3\n",
              "0.552083    3\n",
              "0.590417    3\n",
              "0.483333    3\n",
              "0.722917    3\n",
              "0.538333    3\n",
              "0.570000    3\n",
              "0.862500    2\n",
              "0.757500    2\n",
              "0.434167    2\n",
              "0.441250    2\n",
              "0.672917    2\n",
              "0.537917    2\n",
              "0.410000    2\n",
              "0.677500    2\n",
              "0.805833    2\n",
              "0.734583    2\n",
              "0.668750    2\n",
              "0.540833    2\n",
              "0.694167    2\n",
              "           ..\n",
              "0.642500    1\n",
              "0.422500    1\n",
              "0.494167    1\n",
              "0.616957    1\n",
              "0.700833    1\n",
              "0.640417    1\n",
              "0.187917    1\n",
              "0.414583    1\n",
              "0.559167    1\n",
              "0.691250    1\n",
              "0.581667    1\n",
              "0.561667    1\n",
              "0.720417    1\n",
              "0.896667    1\n",
              "0.838750    1\n",
              "0.797083    1\n",
              "0.426250    1\n",
              "0.457500    1\n",
              "0.618333    1\n",
              "0.609167    1\n",
              "0.812917    1\n",
              "0.810833    1\n",
              "0.537500    1\n",
              "0.712500    1\n",
              "0.704167    1\n",
              "0.615000    1\n",
              "0.686667    1\n",
              "0.480833    1\n",
              "0.649565    1\n",
              "0.741739    1\n",
              "Name: hum, Length: 595, dtype: int64"
            ]
          },
          "metadata": {
            "tags": []
          },
          "execution_count": 20
        }
      ]
    },
    {
      "cell_type": "code",
      "metadata": {
        "id": "R7VMYMn0j8ML",
        "colab_type": "code",
        "colab": {
          "base_uri": "https://localhost:8080/",
          "height": 300
        },
        "outputId": "84a03f82-89ec-4333-c284-473160ef657d"
      },
      "source": [
        "# now draw scatter plot between 'hum' and 'cnt' variable\n",
        "df['hum'].value_counts()\n",
        "\n",
        "# # Now draw a scatter plot between 'hum' and 'cnt' variables\n",
        "var = 'hum'\n",
        "data = pd.concat([df['cnt'], df[var]], axis = 1)\n",
        "data.plot.scatter(x = var, y = 'cnt', ylim = (0,9000))\n",
        "\n",
        "# ot looks like there is a average relationship between hum and cnt"
      ],
      "execution_count": 21,
      "outputs": [
        {
          "output_type": "execute_result",
          "data": {
            "text/plain": [
              "<matplotlib.axes._subplots.AxesSubplot at 0x7f82b88c8198>"
            ]
          },
          "metadata": {
            "tags": []
          },
          "execution_count": 21
        },
        {
          "output_type": "display_data",
          "data": {
            "image/png": "[encoded data removed]",
            "text/plain": [
              "<Figure size 432x288 with 1 Axes>"
            ]
          },
          "metadata": {
            "tags": []
          }
        }
      ]
    },
    {
      "cell_type": "code",
      "metadata": {
        "id": "aKyCe7IVnNY2",
        "colab_type": "code",
        "colab": {
          "base_uri": "https://localhost:8080/",
          "height": 300
        },
        "outputId": "28ddea40-c5dd-4df1-8031-77246b4533a8"
      },
      "source": [
        "# relation between numerical variable 'windspeed' and target variable 'cnt'\n",
        "df['windspeed'].value_counts()\n",
        "\n",
        "# now draw a scatter plot between 'windspeed' and 'cnt' variables\n",
        "\n",
        "var = 'windspeed'\n",
        "data = pd.concat([df['cnt'], df[var]], axis = 1)\n",
        "data.plot.scatter(x = var, y = 'cnt', ylim = (0,9000))\n",
        "\n",
        "# it shows a negative relation between 'wnidspeed' and 'cnt'"
      ],
      "execution_count": 23,
      "outputs": [
        {
          "output_type": "execute_result",
          "data": {
            "text/plain": [
              "<matplotlib.axes._subplots.AxesSubplot at 0x7f82b86e44a8>"
            ]
          },
          "metadata": {
            "tags": []
          },
          "execution_count": 23
        },
        {
          "output_type": "display_data",
          "data": {
            "image/png": "[encoded data removed]",
            "text/plain": [
              "<Figure size 432x288 with 1 Axes>"
            ]
          },
          "metadata": {
            "tags": []
          }
        }
      ]
    },
    {
      "cell_type": "code",
      "metadata": {
        "id": "D82cllccoVYs",
        "colab_type": "code",
        "colab": {
          "base_uri": "https://localhost:8080/",
          "height": 410
        },
        "outputId": "1806a61e-2313-4804-da15-4912623e1cc0"
      },
      "source": [
        "# Boxplot 'weekdays' with 'cnt'\n",
        "var_weekdays = 'weekday'\n",
        "data = pd.concat([df['cnt'],df[var_weekdays]], axis = 1)\n",
        "f, ax = plt.subplots(figsize = (8, 6))\n",
        "fig = sns.boxplot(x = var_weekdays, y = 'cnt', data = data)\n",
        "fig.axis(ymin = 0, ymax = 9000)\n",
        "\n",
        "# below boxplot is saying that median high on holidays when compared to weekdays"
      ],
      "execution_count": 24,
      "outputs": [
        {
          "output_type": "execute_result",
          "data": {
            "text/plain": [
              "(-0.5, 6.5, 0, 9000)"
            ]
          },
          "metadata": {
            "tags": []
          },
          "execution_count": 24
        },
        {
          "output_type": "display_data",
          "data": {
            "image/png": "[encoded data removed]",
            "text/plain": [
              "<Figure size 576x432 with 1 Axes>"
            ]
          },
          "metadata": {
            "tags": []
          }
        }
      ]
    },
    {
      "cell_type": "markdown",
      "metadata": {
        "id": "F8cYH1oO-Wqd",
        "colab_type": "text"
      },
      "source": [
        "MISSING VALUE ANALYSIS"
      ]
    },
    {
      "cell_type": "code",
      "metadata": {
        "id": "8eDUrOpT-U0f",
        "colab_type": "code",
        "colab": {
          "base_uri": "https://localhost:8080/",
          "height": 516
        },
        "outputId": "4c8f35a2-db2d-4a0b-8e78-63ec2683cd5c"
      },
      "source": [
        "total = df.isnull().sum().sort_values(ascending = False)\n",
        "percent = (df.isnull().sum()/df.isnull().count()).sort_values(ascending = False)\n",
        "missing_data = pd.concat([total, percent], axis = 1, keys = ['Total', 'Percent'])\n",
        "missing_data.head(20)"
      ],
      "execution_count": 25,
      "outputs": [
        {
          "output_type": "execute_result",
          "data": {
            "text/html": [
              "<div>\n",
              "<style scoped>\n",
              "    .dataframe tbody tr th:only-of-type {\n",
              "        vertical-align: middle;\n",
              "    }\n",
              "\n",
              "    .dataframe tbody tr th {\n",
              "        vertical-align: top;\n",
              "    }\n",
              "\n",
              "    .dataframe thead th {\n",
              "        text-align: right;\n",
              "    }\n",
              "</style>\n",
              "<table border=\"1\" class=\"dataframe\">\n",
              "  <thead>\n",
              "    <tr style=\"text-align: right;\">\n",
              "      <th></th>\n",
              "      <th>Total</th>\n",
              "      <th>Percent</th>\n",
              "    </tr>\n",
              "  </thead>\n",
              "  <tbody>\n",
              "    <tr>\n",
              "      <th>cnt</th>\n",
              "      <td>0</td>\n",
              "      <td>0.0</td>\n",
              "    </tr>\n",
              "    <tr>\n",
              "      <th>registered</th>\n",
              "      <td>0</td>\n",
              "      <td>0.0</td>\n",
              "    </tr>\n",
              "    <tr>\n",
              "      <th>casual</th>\n",
              "      <td>0</td>\n",
              "      <td>0.0</td>\n",
              "    </tr>\n",
              "    <tr>\n",
              "      <th>windspeed</th>\n",
              "      <td>0</td>\n",
              "      <td>0.0</td>\n",
              "    </tr>\n",
              "    <tr>\n",
              "      <th>hum</th>\n",
              "      <td>0</td>\n",
              "      <td>0.0</td>\n",
              "    </tr>\n",
              "    <tr>\n",
              "      <th>atemp</th>\n",
              "      <td>0</td>\n",
              "      <td>0.0</td>\n",
              "    </tr>\n",
              "    <tr>\n",
              "      <th>temp</th>\n",
              "      <td>0</td>\n",
              "      <td>0.0</td>\n",
              "    </tr>\n",
              "    <tr>\n",
              "      <th>weathersit</th>\n",
              "      <td>0</td>\n",
              "      <td>0.0</td>\n",
              "    </tr>\n",
              "    <tr>\n",
              "      <th>workingday</th>\n",
              "      <td>0</td>\n",
              "      <td>0.0</td>\n",
              "    </tr>\n",
              "    <tr>\n",
              "      <th>weekday</th>\n",
              "      <td>0</td>\n",
              "      <td>0.0</td>\n",
              "    </tr>\n",
              "    <tr>\n",
              "      <th>holiday</th>\n",
              "      <td>0</td>\n",
              "      <td>0.0</td>\n",
              "    </tr>\n",
              "    <tr>\n",
              "      <th>mnth</th>\n",
              "      <td>0</td>\n",
              "      <td>0.0</td>\n",
              "    </tr>\n",
              "    <tr>\n",
              "      <th>yr</th>\n",
              "      <td>0</td>\n",
              "      <td>0.0</td>\n",
              "    </tr>\n",
              "    <tr>\n",
              "      <th>season</th>\n",
              "      <td>0</td>\n",
              "      <td>0.0</td>\n",
              "    </tr>\n",
              "    <tr>\n",
              "      <th>dteday</th>\n",
              "      <td>0</td>\n",
              "      <td>0.0</td>\n",
              "    </tr>\n",
              "    <tr>\n",
              "      <th>instant</th>\n",
              "      <td>0</td>\n",
              "      <td>0.0</td>\n",
              "    </tr>\n",
              "  </tbody>\n",
              "</table>\n",
              "</div>"
            ],
            "text/plain": [
              "            Total  Percent\n",
              "cnt             0      0.0\n",
              "registered      0      0.0\n",
              "casual          0      0.0\n",
              "windspeed       0      0.0\n",
              "hum             0      0.0\n",
              "atemp           0      0.0\n",
              "temp            0      0.0\n",
              "weathersit      0      0.0\n",
              "workingday      0      0.0\n",
              "weekday         0      0.0\n",
              "holiday         0      0.0\n",
              "mnth            0      0.0\n",
              "yr              0      0.0\n",
              "season          0      0.0\n",
              "dteday          0      0.0\n",
              "instant         0      0.0"
            ]
          },
          "metadata": {
            "tags": []
          },
          "execution_count": 25
        }
      ]
    },
    {
      "cell_type": "code",
      "metadata": {
        "id": "FeATo08nBlcB",
        "colab_type": "code",
        "colab": {}
      },
      "source": [
        "# Already all the numeric variable are normalize form so, we are not analysing outliers here\n",
        "\n",
        "# here the six numerics variables are present out of six, four variables are in normalize form\n",
        "# temp, atemp, hum, windspread are in normalize form no need to check outliers\n",
        "# casual and registered have to check outliers\n",
        "\n",
        "df_1 = df.copy()"
      ],
      "execution_count": 0,
      "outputs": []
    },
    {
      "cell_type": "markdown",
      "metadata": {
        "id": "OXiik_QCCyCb",
        "colab_type": "text"
      },
      "source": [
        "OUTLIER ANALYSIS"
      ]
    },
    {
      "cell_type": "code",
      "metadata": {
        "id": "xYniqbz9CsmG",
        "colab_type": "code",
        "colab": {
          "base_uri": "https://localhost:8080/",
          "height": 308
        },
        "outputId": "d4622a16-0580-4972-b8fa-b1d4605b8996"
      },
      "source": [
        "df.head()\n",
        "\n",
        "# plt.boxplot(df_1['casual'])\n",
        "\n",
        "sns.set(style = 'whitegrid')\n",
        "ax = sns.boxplot(x = df['casual'])\n",
        "# It seems outliers are present in 'Casual' variable but we are keeping as it will detect and conver outliers during tuning \n",
        "\n",
        "# Correlation before outlier treatment\n",
        "# correlation between 'casual' and 'cnt' before removal of outliers\n",
        "\n",
        "\n",
        "df['casual'].corr(df['cnt'])"
      ],
      "execution_count": 27,
      "outputs": [
        {
          "output_type": "execute_result",
          "data": {
            "text/plain": [
              "0.6728044333386833"
            ]
          },
          "metadata": {
            "tags": []
          },
          "execution_count": 27
        },
        {
          "output_type": "display_data",
          "data": {
            "image/png": "[encoded data removed]",
            "text/plain": [
              "<Figure size 432x288 with 1 Axes>"
            ]
          },
          "metadata": {
            "tags": []
          }
        }
      ]
    },
    {
      "cell_type": "code",
      "metadata": {
        "id": "tyVD8V6nEKdM",
        "colab_type": "code",
        "colab": {
          "base_uri": "https://localhost:8080/",
          "height": 344
        },
        "outputId": "61d52e27-009a-426d-b524-a517842ef084"
      },
      "source": [
        "cnames = ['casual']\n",
        "for i in cnames:\n",
        "    q75, q25 = np.percentile(df.loc[:, i], [75, 25])\n",
        "    iqr = q75 - q25\n",
        "    \n",
        "min = q25 - (iqr * 1.5)\n",
        "max = q75 + (iqr * 1.5)\n",
        "\n",
        "print(min)\n",
        "print(max)\n",
        "\n",
        "df_day_out = df.copy()\n",
        "\n",
        "df_day_out = df_day_out.drop(df_day_out[df_day_out.loc[:, i] < min].index)\n",
        "df_day_out = df_day_out.drop(df_day_out[df_day_out.loc[:, 'casual'] > max].index)\n",
        "\n",
        "# Boxplot for casual after a outlier removal\n",
        "\n",
        "sns.set(style = 'whitegrid')\n",
        "ax = sns.boxplot(x = df_day_out['casual'])\n",
        "\n",
        "# Correlation between 'casual' and 'cnt' after outlier removal\n",
        "df_day_out['casual'].corr(df_day_out['cnt'])"
      ],
      "execution_count": 29,
      "outputs": [
        {
          "output_type": "stream",
          "text": [
            "-855.25\n",
            "2266.75\n"
          ],
          "name": "stdout"
        },
        {
          "output_type": "execute_result",
          "data": {
            "text/plain": [
              "0.6460020508747333"
            ]
          },
          "metadata": {
            "tags": []
          },
          "execution_count": 29
        },
        {
          "output_type": "display_data",
          "data": {
            "image/png": "[encoded data removed]",
            "text/plain": [
              "<Figure size 432x288 with 1 Axes>"
            ]
          },
          "metadata": {
            "tags": []
          }
        }
      ]
    },
    {
      "cell_type": "markdown",
      "metadata": {
        "id": "hKoMLQ3RYbY6",
        "colab_type": "text"
      },
      "source": [
        "FEATURE SELECTION"
      ]
    },
    {
      "cell_type": "code",
      "metadata": {
        "id": "XeZH6NgwS_1p",
        "colab_type": "code",
        "colab": {
          "base_uri": "https://localhost:8080/",
          "height": 182
        },
        "outputId": "a87a6a17-becb-4884-cfdf-0b76eed44a47"
      },
      "source": [
        "# Selection of numerical features based on Pearson corelation\n",
        "day_numeric = df.loc[:, ['temp', 'atemp', 'hum', 'windspeed', 'casual', 'registered', 'cnt']]\n",
        "\n",
        "# draw correlation matrix between all numeric variables and analyse what are the variables are important\n",
        "day_numeric.corr(method = 'pearson').style.format(\"{:.2}\").background_gradient(cmap=plt.get_cmap('coolwarm'),axis = 1)\n",
        "\n",
        "# Color dark blue indicates that there is a stron positive relationship and if darkness is decreasing means relationship between variables are decreasing\n",
        "# color dark red indicates there is a strong negative relationship and if darkness is decreasing indicates relationshiv between variables are decreasing"
      ],
      "execution_count": 30,
      "outputs": [
        {
          "output_type": "execute_result",
          "data": {
            "text/html": [
              "<style  type=\"text/css\" >\n",
              "    #T_501efd96_e428_11e9_b5a5_0242ac1c0002row0_col0 {\n",
              "            background-color:  #b40426;\n",
              "            color:  #f1f1f1;\n",
              "        }    #T_501efd96_e428_11e9_b5a5_0242ac1c0002row0_col1 {\n",
              "            background-color:  #b50927;\n",
              "            color:  #f1f1f1;\n",
              "        }    #T_501efd96_e428_11e9_b5a5_0242ac1c0002row0_col2 {\n",
              "            background-color:  #8badfd;\n",
              "            color:  #000000;\n",
              "        }    #T_501efd96_e428_11e9_b5a5_0242ac1c0002row0_col3 {\n",
              "            background-color:  #3b4cc0;\n",
              "            color:  #f1f1f1;\n",
              "        }    #T_501efd96_e428_11e9_b5a5_0242ac1c0002row0_col4 {\n",
              "            background-color:  #f2c9b4;\n",
              "            color:  #000000;\n",
              "        }    #T_501efd96_e428_11e9_b5a5_0242ac1c0002row0_col5 {\n",
              "            background-color:  #f2cab5;\n",
              "            color:  #000000;\n",
              "        }    #T_501efd96_e428_11e9_b5a5_0242ac1c0002row0_col6 {\n",
              "            background-color:  #f7b497;\n",
              "            color:  #000000;\n",
              "        }    #T_501efd96_e428_11e9_b5a5_0242ac1c0002row1_col0 {\n",
              "            background-color:  #b50927;\n",
              "            color:  #f1f1f1;\n",
              "        }    #T_501efd96_e428_11e9_b5a5_0242ac1c0002row1_col1 {\n",
              "            background-color:  #b40426;\n",
              "            color:  #f1f1f1;\n",
              "        }    #T_501efd96_e428_11e9_b5a5_0242ac1c0002row1_col2 {\n",
              "            background-color:  #94b6ff;\n",
              "            color:  #000000;\n",
              "        }    #T_501efd96_e428_11e9_b5a5_0242ac1c0002row1_col3 {\n",
              "            background-color:  #3b4cc0;\n",
              "            color:  #f1f1f1;\n",
              "        }    #T_501efd96_e428_11e9_b5a5_0242ac1c0002row1_col4 {\n",
              "            background-color:  #f3c7b1;\n",
              "            color:  #000000;\n",
              "        }    #T_501efd96_e428_11e9_b5a5_0242ac1c0002row1_col5 {\n",
              "            background-color:  #f3c7b1;\n",
              "            color:  #000000;\n",
              "        }    #T_501efd96_e428_11e9_b5a5_0242ac1c0002row1_col6 {\n",
              "            background-color:  #f7b093;\n",
              "            color:  #000000;\n",
              "        }    #T_501efd96_e428_11e9_b5a5_0242ac1c0002row2_col0 {\n",
              "            background-color:  #9ebeff;\n",
              "            color:  #000000;\n",
              "        }    #T_501efd96_e428_11e9_b5a5_0242ac1c0002row2_col1 {\n",
              "            background-color:  #a2c1ff;\n",
              "            color:  #000000;\n",
              "        }    #T_501efd96_e428_11e9_b5a5_0242ac1c0002row2_col2 {\n",
              "            background-color:  #b40426;\n",
              "            color:  #f1f1f1;\n",
              "        }    #T_501efd96_e428_11e9_b5a5_0242ac1c0002row2_col3 {\n",
              "            background-color:  #3b4cc0;\n",
              "            color:  #f1f1f1;\n",
              "        }    #T_501efd96_e428_11e9_b5a5_0242ac1c0002row2_col4 {\n",
              "            background-color:  #6687ed;\n",
              "            color:  #000000;\n",
              "        }    #T_501efd96_e428_11e9_b5a5_0242ac1c0002row2_col5 {\n",
              "            background-color:  #6282ea;\n",
              "            color:  #000000;\n",
              "        }    #T_501efd96_e428_11e9_b5a5_0242ac1c0002row2_col6 {\n",
              "            background-color:  #5f7fe8;\n",
              "            color:  #000000;\n",
              "        }    #T_501efd96_e428_11e9_b5a5_0242ac1c0002row3_col0 {\n",
              "            background-color:  #506bda;\n",
              "            color:  #000000;\n",
              "        }    #T_501efd96_e428_11e9_b5a5_0242ac1c0002row3_col1 {\n",
              "            background-color:  #4a63d3;\n",
              "            color:  #f1f1f1;\n",
              "        }    #T_501efd96_e428_11e9_b5a5_0242ac1c0002row3_col2 {\n",
              "            background-color:  #3b4cc0;\n",
              "            color:  #f1f1f1;\n",
              "        }    #T_501efd96_e428_11e9_b5a5_0242ac1c0002row3_col3 {\n",
              "            background-color:  #b40426;\n",
              "            color:  #f1f1f1;\n",
              "        }    #T_501efd96_e428_11e9_b5a5_0242ac1c0002row3_col4 {\n",
              "            background-color:  #4e68d8;\n",
              "            color:  #000000;\n",
              "        }    #T_501efd96_e428_11e9_b5a5_0242ac1c0002row3_col5 {\n",
              "            background-color:  #4257c9;\n",
              "            color:  #f1f1f1;\n",
              "        }    #T_501efd96_e428_11e9_b5a5_0242ac1c0002row3_col6 {\n",
              "            background-color:  #3d50c3;\n",
              "            color:  #f1f1f1;\n",
              "        }    #T_501efd96_e428_11e9_b5a5_0242ac1c0002row4_col0 {\n",
              "            background-color:  #f2c9b4;\n",
              "            color:  #000000;\n",
              "        }    #T_501efd96_e428_11e9_b5a5_0242ac1c0002row4_col1 {\n",
              "            background-color:  #f2c9b4;\n",
              "            color:  #000000;\n",
              "        }    #T_501efd96_e428_11e9_b5a5_0242ac1c0002row4_col2 {\n",
              "            background-color:  #516ddb;\n",
              "            color:  #000000;\n",
              "        }    #T_501efd96_e428_11e9_b5a5_0242ac1c0002row4_col3 {\n",
              "            background-color:  #3b4cc0;\n",
              "            color:  #f1f1f1;\n",
              "        }    #T_501efd96_e428_11e9_b5a5_0242ac1c0002row4_col4 {\n",
              "            background-color:  #b40426;\n",
              "            color:  #f1f1f1;\n",
              "        }    #T_501efd96_e428_11e9_b5a5_0242ac1c0002row4_col5 {\n",
              "            background-color:  #d8dce2;\n",
              "            color:  #000000;\n",
              "        }    #T_501efd96_e428_11e9_b5a5_0242ac1c0002row4_col6 {\n",
              "            background-color:  #f6a586;\n",
              "            color:  #000000;\n",
              "        }    #T_501efd96_e428_11e9_b5a5_0242ac1c0002row5_col0 {\n",
              "            background-color:  #f4c5ad;\n",
              "            color:  #000000;\n",
              "        }    #T_501efd96_e428_11e9_b5a5_0242ac1c0002row5_col1 {\n",
              "            background-color:  #f5c4ac;\n",
              "            color:  #000000;\n",
              "        }    #T_501efd96_e428_11e9_b5a5_0242ac1c0002row5_col2 {\n",
              "            background-color:  #5a78e4;\n",
              "            color:  #000000;\n",
              "        }    #T_501efd96_e428_11e9_b5a5_0242ac1c0002row5_col3 {\n",
              "            background-color:  #3b4cc0;\n",
              "            color:  #f1f1f1;\n",
              "        }    #T_501efd96_e428_11e9_b5a5_0242ac1c0002row5_col4 {\n",
              "            background-color:  #dddcdc;\n",
              "            color:  #000000;\n",
              "        }    #T_501efd96_e428_11e9_b5a5_0242ac1c0002row5_col5 {\n",
              "            background-color:  #b40426;\n",
              "            color:  #f1f1f1;\n",
              "        }    #T_501efd96_e428_11e9_b5a5_0242ac1c0002row5_col6 {\n",
              "            background-color:  #c43032;\n",
              "            color:  #f1f1f1;\n",
              "        }    #T_501efd96_e428_11e9_b5a5_0242ac1c0002row6_col0 {\n",
              "            background-color:  #f7ad90;\n",
              "            color:  #000000;\n",
              "        }    #T_501efd96_e428_11e9_b5a5_0242ac1c0002row6_col1 {\n",
              "            background-color:  #f7ac8e;\n",
              "            color:  #000000;\n",
              "        }    #T_501efd96_e428_11e9_b5a5_0242ac1c0002row6_col2 {\n",
              "            background-color:  #5b7ae5;\n",
              "            color:  #000000;\n",
              "        }    #T_501efd96_e428_11e9_b5a5_0242ac1c0002row6_col3 {\n",
              "            background-color:  #3b4cc0;\n",
              "            color:  #f1f1f1;\n",
              "        }    #T_501efd96_e428_11e9_b5a5_0242ac1c0002row6_col4 {\n",
              "            background-color:  #f59f80;\n",
              "            color:  #000000;\n",
              "        }    #T_501efd96_e428_11e9_b5a5_0242ac1c0002row6_col5 {\n",
              "            background-color:  #c43032;\n",
              "            color:  #f1f1f1;\n",
              "        }    #T_501efd96_e428_11e9_b5a5_0242ac1c0002row6_col6 {\n",
              "            background-color:  #b40426;\n",
              "            color:  #f1f1f1;\n",
              "        }</style><table id=\"T_501efd96_e428_11e9_b5a5_0242ac1c0002\" ><thead>    <tr>        <th class=\"blank level0\" ></th>        <th class=\"col_heading level0 col0\" >temp</th>        <th class=\"col_heading level0 col1\" >atemp</th>        <th class=\"col_heading level0 col2\" >hum</th>        <th class=\"col_heading level0 col3\" >windspeed</th>        <th class=\"col_heading level0 col4\" >casual</th>        <th class=\"col_heading level0 col5\" >registered</th>        <th class=\"col_heading level0 col6\" >cnt</th>    </tr></thead><tbody>\n",
              "                <tr>\n",
              "                        <th id=\"T_501efd96_e428_11e9_b5a5_0242ac1c0002level0_row0\" class=\"row_heading level0 row0\" >temp</th>\n",
              "                        <td id=\"T_501efd96_e428_11e9_b5a5_0242ac1c0002row0_col0\" class=\"data row0 col0\" >1.0</td>\n",
              "                        <td id=\"T_501efd96_e428_11e9_b5a5_0242ac1c0002row0_col1\" class=\"data row0 col1\" >0.99</td>\n",
              "                        <td id=\"T_501efd96_e428_11e9_b5a5_0242ac1c0002row0_col2\" class=\"data row0 col2\" >0.13</td>\n",
              "                        <td id=\"T_501efd96_e428_11e9_b5a5_0242ac1c0002row0_col3\" class=\"data row0 col3\" >-0.16</td>\n",
              "                        <td id=\"T_501efd96_e428_11e9_b5a5_0242ac1c0002row0_col4\" class=\"data row0 col4\" >0.54</td>\n",
              "                        <td id=\"T_501efd96_e428_11e9_b5a5_0242ac1c0002row0_col5\" class=\"data row0 col5\" >0.54</td>\n",
              "                        <td id=\"T_501efd96_e428_11e9_b5a5_0242ac1c0002row0_col6\" class=\"data row0 col6\" >0.63</td>\n",
              "            </tr>\n",
              "            <tr>\n",
              "                        <th id=\"T_501efd96_e428_11e9_b5a5_0242ac1c0002level0_row1\" class=\"row_heading level0 row1\" >atemp</th>\n",
              "                        <td id=\"T_501efd96_e428_11e9_b5a5_0242ac1c0002row1_col0\" class=\"data row1 col0\" >0.99</td>\n",
              "                        <td id=\"T_501efd96_e428_11e9_b5a5_0242ac1c0002row1_col1\" class=\"data row1 col1\" >1.0</td>\n",
              "                        <td id=\"T_501efd96_e428_11e9_b5a5_0242ac1c0002row1_col2\" class=\"data row1 col2\" >0.14</td>\n",
              "                        <td id=\"T_501efd96_e428_11e9_b5a5_0242ac1c0002row1_col3\" class=\"data row1 col3\" >-0.18</td>\n",
              "                        <td id=\"T_501efd96_e428_11e9_b5a5_0242ac1c0002row1_col4\" class=\"data row1 col4\" >0.54</td>\n",
              "                        <td id=\"T_501efd96_e428_11e9_b5a5_0242ac1c0002row1_col5\" class=\"data row1 col5\" >0.54</td>\n",
              "                        <td id=\"T_501efd96_e428_11e9_b5a5_0242ac1c0002row1_col6\" class=\"data row1 col6\" >0.63</td>\n",
              "            </tr>\n",
              "            <tr>\n",
              "                        <th id=\"T_501efd96_e428_11e9_b5a5_0242ac1c0002level0_row2\" class=\"row_heading level0 row2\" >hum</th>\n",
              "                        <td id=\"T_501efd96_e428_11e9_b5a5_0242ac1c0002row2_col0\" class=\"data row2 col0\" >0.13</td>\n",
              "                        <td id=\"T_501efd96_e428_11e9_b5a5_0242ac1c0002row2_col1\" class=\"data row2 col1\" >0.14</td>\n",
              "                        <td id=\"T_501efd96_e428_11e9_b5a5_0242ac1c0002row2_col2\" class=\"data row2 col2\" >1.0</td>\n",
              "                        <td id=\"T_501efd96_e428_11e9_b5a5_0242ac1c0002row2_col3\" class=\"data row2 col3\" >-0.25</td>\n",
              "                        <td id=\"T_501efd96_e428_11e9_b5a5_0242ac1c0002row2_col4\" class=\"data row2 col4\" >-0.077</td>\n",
              "                        <td id=\"T_501efd96_e428_11e9_b5a5_0242ac1c0002row2_col5\" class=\"data row2 col5\" >-0.091</td>\n",
              "                        <td id=\"T_501efd96_e428_11e9_b5a5_0242ac1c0002row2_col6\" class=\"data row2 col6\" >-0.1</td>\n",
              "            </tr>\n",
              "            <tr>\n",
              "                        <th id=\"T_501efd96_e428_11e9_b5a5_0242ac1c0002level0_row3\" class=\"row_heading level0 row3\" >windspeed</th>\n",
              "                        <td id=\"T_501efd96_e428_11e9_b5a5_0242ac1c0002row3_col0\" class=\"data row3 col0\" >-0.16</td>\n",
              "                        <td id=\"T_501efd96_e428_11e9_b5a5_0242ac1c0002row3_col1\" class=\"data row3 col1\" >-0.18</td>\n",
              "                        <td id=\"T_501efd96_e428_11e9_b5a5_0242ac1c0002row3_col2\" class=\"data row3 col2\" >-0.25</td>\n",
              "                        <td id=\"T_501efd96_e428_11e9_b5a5_0242ac1c0002row3_col3\" class=\"data row3 col3\" >1.0</td>\n",
              "                        <td id=\"T_501efd96_e428_11e9_b5a5_0242ac1c0002row3_col4\" class=\"data row3 col4\" >-0.17</td>\n",
              "                        <td id=\"T_501efd96_e428_11e9_b5a5_0242ac1c0002row3_col5\" class=\"data row3 col5\" >-0.22</td>\n",
              "                        <td id=\"T_501efd96_e428_11e9_b5a5_0242ac1c0002row3_col6\" class=\"data row3 col6\" >-0.23</td>\n",
              "            </tr>\n",
              "            <tr>\n",
              "                        <th id=\"T_501efd96_e428_11e9_b5a5_0242ac1c0002level0_row4\" class=\"row_heading level0 row4\" >casual</th>\n",
              "                        <td id=\"T_501efd96_e428_11e9_b5a5_0242ac1c0002row4_col0\" class=\"data row4 col0\" >0.54</td>\n",
              "                        <td id=\"T_501efd96_e428_11e9_b5a5_0242ac1c0002row4_col1\" class=\"data row4 col1\" >0.54</td>\n",
              "                        <td id=\"T_501efd96_e428_11e9_b5a5_0242ac1c0002row4_col2\" class=\"data row4 col2\" >-0.077</td>\n",
              "                        <td id=\"T_501efd96_e428_11e9_b5a5_0242ac1c0002row4_col3\" class=\"data row4 col3\" >-0.17</td>\n",
              "                        <td id=\"T_501efd96_e428_11e9_b5a5_0242ac1c0002row4_col4\" class=\"data row4 col4\" >1.0</td>\n",
              "                        <td id=\"T_501efd96_e428_11e9_b5a5_0242ac1c0002row4_col5\" class=\"data row4 col5\" >0.4</td>\n",
              "                        <td id=\"T_501efd96_e428_11e9_b5a5_0242ac1c0002row4_col6\" class=\"data row4 col6\" >0.67</td>\n",
              "            </tr>\n",
              "            <tr>\n",
              "                        <th id=\"T_501efd96_e428_11e9_b5a5_0242ac1c0002level0_row5\" class=\"row_heading level0 row5\" >registered</th>\n",
              "                        <td id=\"T_501efd96_e428_11e9_b5a5_0242ac1c0002row5_col0\" class=\"data row5 col0\" >0.54</td>\n",
              "                        <td id=\"T_501efd96_e428_11e9_b5a5_0242ac1c0002row5_col1\" class=\"data row5 col1\" >0.54</td>\n",
              "                        <td id=\"T_501efd96_e428_11e9_b5a5_0242ac1c0002row5_col2\" class=\"data row5 col2\" >-0.091</td>\n",
              "                        <td id=\"T_501efd96_e428_11e9_b5a5_0242ac1c0002row5_col3\" class=\"data row5 col3\" >-0.22</td>\n",
              "                        <td id=\"T_501efd96_e428_11e9_b5a5_0242ac1c0002row5_col4\" class=\"data row5 col4\" >0.4</td>\n",
              "                        <td id=\"T_501efd96_e428_11e9_b5a5_0242ac1c0002row5_col5\" class=\"data row5 col5\" >1.0</td>\n",
              "                        <td id=\"T_501efd96_e428_11e9_b5a5_0242ac1c0002row5_col6\" class=\"data row5 col6\" >0.95</td>\n",
              "            </tr>\n",
              "            <tr>\n",
              "                        <th id=\"T_501efd96_e428_11e9_b5a5_0242ac1c0002level0_row6\" class=\"row_heading level0 row6\" >cnt</th>\n",
              "                        <td id=\"T_501efd96_e428_11e9_b5a5_0242ac1c0002row6_col0\" class=\"data row6 col0\" >0.63</td>\n",
              "                        <td id=\"T_501efd96_e428_11e9_b5a5_0242ac1c0002row6_col1\" class=\"data row6 col1\" >0.63</td>\n",
              "                        <td id=\"T_501efd96_e428_11e9_b5a5_0242ac1c0002row6_col2\" class=\"data row6 col2\" >-0.1</td>\n",
              "                        <td id=\"T_501efd96_e428_11e9_b5a5_0242ac1c0002row6_col3\" class=\"data row6 col3\" >-0.23</td>\n",
              "                        <td id=\"T_501efd96_e428_11e9_b5a5_0242ac1c0002row6_col4\" class=\"data row6 col4\" >0.67</td>\n",
              "                        <td id=\"T_501efd96_e428_11e9_b5a5_0242ac1c0002row6_col5\" class=\"data row6 col5\" >0.95</td>\n",
              "                        <td id=\"T_501efd96_e428_11e9_b5a5_0242ac1c0002row6_col6\" class=\"data row6 col6\" >1.0</td>\n",
              "            </tr>\n",
              "    </tbody></table>"
            ],
            "text/plain": [
              "<pandas.io.formats.style.Styler at 0x7f82b87e1710>"
            ]
          },
          "metadata": {
            "tags": []
          },
          "execution_count": 30
        }
      ]
    },
    {
      "cell_type": "code",
      "metadata": {
        "id": "4TN8VfjQEznr",
        "colab_type": "code",
        "colab": {
          "base_uri": "https://localhost:8080/",
          "height": 1000
        },
        "outputId": "ddb43ec3-306f-4380-86e8-aeb3bd212bd1"
      },
      "source": [
        "# check relationship between scatter plots\n",
        "sns.set()\n",
        "cols = ['temp', 'atemp', 'hum', 'windspeed', 'casual', 'registered', 'cnt']\n",
        "sns.pairplot(day_numeric[cols], size = 2.5, kind = 'red')\n",
        "plt.show()\n",
        "\n",
        "# As per scatter plots and above correlation graph there is a strong relation between independent variable 'temp' and 'atemp'\n",
        "# and there is a poor relation between independent variable 'hum' and dependent variable 'cnt'\n",
        "# sodropping 2 variables from feature selection\n",
        "numeric_features = day_numeric.loc[:,['temp', 'windspeed', 'casual', 'registered', 'cnt']]\n",
        "print(numeric_features.head())\n",
        "print(numeric_features.shape)"
      ],
      "execution_count": 31,
      "outputs": [
        {
          "output_type": "stream",
          "text": [
            "/usr/local/lib/python3.6/dist-packages/seaborn/axisgrid.py:2065: UserWarning: The `size` parameter has been renamed to `height`; pleaes update your code.\n",
            "  warnings.warn(msg, UserWarning)\n"
          ],
          "name": "stderr"
        },
        {
          "output_type": "display_data",
          "data": {
            "image/png": "[encoded data removed]",
            "text/plain": [
              "<Figure size 1260x1260 with 56 Axes>"
            ]
          },
          "metadata": {
            "tags": []
          }
        },
        {
          "output_type": "stream",
          "text": [
            "       temp  windspeed  casual  registered   cnt\n",
            "0  0.344167   0.160446     331         654   985\n",
            "1  0.363478   0.248539     131         670   801\n",
            "2  0.196364   0.248309     120        1229  1349\n",
            "3  0.200000   0.160296     108        1454  1562\n",
            "4  0.226957   0.186900      82        1518  1600\n",
            "(731, 5)\n"
          ],
          "name": "stdout"
        }
      ]
    },
    {
      "cell_type": "markdown",
      "metadata": {
        "id": "_0ac5Ec8IQjA",
        "colab_type": "text"
      },
      "source": [
        "FEATURE SCALING"
      ]
    },
    {
      "cell_type": "code",
      "metadata": {
        "id": "WsgTglotIOz7",
        "colab_type": "code",
        "colab": {
          "base_uri": "https://localhost:8080/",
          "height": 257
        },
        "outputId": "1743d8a7-6d0b-48d2-8fa5-2b2b8fef10e2"
      },
      "source": [
        "###############################  NORMALITY CHECK  ###################################\n",
        "cnames = ['casual','registered']\n",
        "\n",
        "for i in cnames :\n",
        "    print(i)\n",
        "    df[i] = (df[i] - min(df[i]))/(max(df[i]) - min(df[i]))\n",
        "\n",
        "df.head()"
      ],
      "execution_count": 32,
      "outputs": [
        {
          "output_type": "stream",
          "text": [
            "casual\n"
          ],
          "name": "stdout"
        },
        {
          "output_type": "error",
          "ename": "TypeError",
          "evalue": "ignored",
          "traceback": [
            "\u001b[0;31m---------------------------------------------------------------------------\u001b[0m",
            "\u001b[0;31mTypeError\u001b[0m                                 Traceback (most recent call last)",
            "\u001b[0;32m<ipython-input-32-c8da18f1f79e>\u001b[0m in \u001b[0;36m<module>\u001b[0;34m()\u001b[0m\n\u001b[1;32m      3\u001b[0m \u001b[0;32mfor\u001b[0m \u001b[0mi\u001b[0m \u001b[0;32min\u001b[0m \u001b[0mcnames\u001b[0m \u001b[0;34m:\u001b[0m\u001b[0;34m\u001b[0m\u001b[0;34m\u001b[0m\u001b[0m\n\u001b[1;32m      4\u001b[0m     \u001b[0mprint\u001b[0m\u001b[0;34m(\u001b[0m\u001b[0mi\u001b[0m\u001b[0;34m)\u001b[0m\u001b[0;34m\u001b[0m\u001b[0;34m\u001b[0m\u001b[0m\n\u001b[0;32m----> 5\u001b[0;31m     \u001b[0mdf\u001b[0m\u001b[0;34m[\u001b[0m\u001b[0mi\u001b[0m\u001b[0;34m]\u001b[0m \u001b[0;34m=\u001b[0m \u001b[0;34m(\u001b[0m\u001b[0mdf\u001b[0m\u001b[0;34m[\u001b[0m\u001b[0mi\u001b[0m\u001b[0;34m]\u001b[0m \u001b[0;34m-\u001b[0m \u001b[0mmin\u001b[0m\u001b[0;34m(\u001b[0m\u001b[0mdf\u001b[0m\u001b[0;34m[\u001b[0m\u001b[0mi\u001b[0m\u001b[0;34m]\u001b[0m\u001b[0;34m)\u001b[0m\u001b[0;34m)\u001b[0m\u001b[0;34m/\u001b[0m\u001b[0;34m(\u001b[0m\u001b[0mmax\u001b[0m\u001b[0;34m(\u001b[0m\u001b[0mdf\u001b[0m\u001b[0;34m[\u001b[0m\u001b[0mi\u001b[0m\u001b[0;34m]\u001b[0m\u001b[0;34m)\u001b[0m \u001b[0;34m-\u001b[0m \u001b[0mmin\u001b[0m\u001b[0;34m(\u001b[0m\u001b[0mdf\u001b[0m\u001b[0;34m[\u001b[0m\u001b[0mi\u001b[0m\u001b[0;34m]\u001b[0m\u001b[0;34m)\u001b[0m\u001b[0;34m)\u001b[0m\u001b[0;34m\u001b[0m\u001b[0;34m\u001b[0m\u001b[0m\n\u001b[0m\u001b[1;32m      6\u001b[0m \u001b[0;34m\u001b[0m\u001b[0m\n\u001b[1;32m      7\u001b[0m \u001b[0mdf\u001b[0m\u001b[0;34m.\u001b[0m\u001b[0mhead\u001b[0m\u001b[0;34m(\u001b[0m\u001b[0;34m)\u001b[0m\u001b[0;34m\u001b[0m\u001b[0;34m\u001b[0m\u001b[0m\n",
            "\u001b[0;31mTypeError\u001b[0m: 'numpy.float64' object is not callable"
          ]
        }
      ]
    },
    {
      "cell_type": "code",
      "metadata": {
        "id": "VZENWX1UNsiU",
        "colab_type": "code",
        "colab": {}
      },
      "source": [
        "# Now i an not checking categorical feature importance i will check it later during tuning process\n",
        "# Now for variable not doing Data Scaling this will do during tuning process"
      ],
      "execution_count": 0,
      "outputs": []
    },
    {
      "cell_type": "code",
      "metadata": {
        "id": "OyKbOEpLQMZl",
        "colab_type": "code",
        "colab": {
          "base_uri": "https://localhost:8080/",
          "height": 212
        },
        "outputId": "f1a38ead-1240-4f4f-ce5a-480eafcb7de4"
      },
      "source": [
        "# Divide train and test data using sklearn train_test_split\n",
        "\n",
        "df_feature_selection = df.drop(['atemp', 'hum'], axis = 1)\n",
        "print(df_feature_selection.shape)\n",
        "\n",
        "from sklearn.model_selection import train_test_split\n",
        "train, test = train_test_split(df_feature_selection, test_size = 0.2)\n",
        "\n",
        "# train.shape\n",
        "train.head()\n",
        "# test.shape\n",
        "# test.head()"
      ],
      "execution_count": 34,
      "outputs": [
        {
          "output_type": "stream",
          "text": [
            "(731, 14)\n"
          ],
          "name": "stdout"
        },
        {
          "output_type": "execute_result",
          "data": {
            "text/html": [
              "<div>\n",
              "<style scoped>\n",
              "    .dataframe tbody tr th:only-of-type {\n",
              "        vertical-align: middle;\n",
              "    }\n",
              "\n",
              "    .dataframe tbody tr th {\n",
              "        vertical-align: top;\n",
              "    }\n",
              "\n",
              "    .dataframe thead th {\n",
              "        text-align: right;\n",
              "    }\n",
              "</style>\n",
              "<table border=\"1\" class=\"dataframe\">\n",
              "  <thead>\n",
              "    <tr style=\"text-align: right;\">\n",
              "      <th></th>\n",
              "      <th>instant</th>\n",
              "      <th>dteday</th>\n",
              "      <th>season</th>\n",
              "      <th>yr</th>\n",
              "      <th>mnth</th>\n",
              "      <th>holiday</th>\n",
              "      <th>weekday</th>\n",
              "      <th>workingday</th>\n",
              "      <th>weathersit</th>\n",
              "      <th>temp</th>\n",
              "      <th>windspeed</th>\n",
              "      <th>casual</th>\n",
              "      <th>registered</th>\n",
              "      <th>cnt</th>\n",
              "    </tr>\n",
              "  </thead>\n",
              "  <tbody>\n",
              "    <tr>\n",
              "      <th>466</th>\n",
              "      <td>467</td>\n",
              "      <td>2012-04-11</td>\n",
              "      <td>2</td>\n",
              "      <td>1</td>\n",
              "      <td>4</td>\n",
              "      <td>0</td>\n",
              "      <td>3</td>\n",
              "      <td>1</td>\n",
              "      <td>1</td>\n",
              "      <td>0.348696</td>\n",
              "      <td>0.295274</td>\n",
              "      <td>482</td>\n",
              "      <td>4380</td>\n",
              "      <td>4862</td>\n",
              "    </tr>\n",
              "    <tr>\n",
              "      <th>446</th>\n",
              "      <td>447</td>\n",
              "      <td>2012-03-22</td>\n",
              "      <td>2</td>\n",
              "      <td>1</td>\n",
              "      <td>3</td>\n",
              "      <td>0</td>\n",
              "      <td>4</td>\n",
              "      <td>1</td>\n",
              "      <td>1</td>\n",
              "      <td>0.554167</td>\n",
              "      <td>0.117562</td>\n",
              "      <td>1334</td>\n",
              "      <td>5537</td>\n",
              "      <td>6871</td>\n",
              "    </tr>\n",
              "    <tr>\n",
              "      <th>717</th>\n",
              "      <td>718</td>\n",
              "      <td>2012-12-18</td>\n",
              "      <td>4</td>\n",
              "      <td>1</td>\n",
              "      <td>12</td>\n",
              "      <td>0</td>\n",
              "      <td>2</td>\n",
              "      <td>1</td>\n",
              "      <td>1</td>\n",
              "      <td>0.410833</td>\n",
              "      <td>0.221404</td>\n",
              "      <td>433</td>\n",
              "      <td>5124</td>\n",
              "      <td>5557</td>\n",
              "    </tr>\n",
              "    <tr>\n",
              "      <th>412</th>\n",
              "      <td>413</td>\n",
              "      <td>2012-02-17</td>\n",
              "      <td>1</td>\n",
              "      <td>1</td>\n",
              "      <td>2</td>\n",
              "      <td>0</td>\n",
              "      <td>5</td>\n",
              "      <td>1</td>\n",
              "      <td>1</td>\n",
              "      <td>0.343333</td>\n",
              "      <td>0.205846</td>\n",
              "      <td>349</td>\n",
              "      <td>3805</td>\n",
              "      <td>4154</td>\n",
              "    </tr>\n",
              "    <tr>\n",
              "      <th>251</th>\n",
              "      <td>252</td>\n",
              "      <td>2011-09-09</td>\n",
              "      <td>3</td>\n",
              "      <td>0</td>\n",
              "      <td>9</td>\n",
              "      <td>0</td>\n",
              "      <td>5</td>\n",
              "      <td>1</td>\n",
              "      <td>2</td>\n",
              "      <td>0.650000</td>\n",
              "      <td>0.124379</td>\n",
              "      <td>417</td>\n",
              "      <td>3127</td>\n",
              "      <td>3544</td>\n",
              "    </tr>\n",
              "  </tbody>\n",
              "</table>\n",
              "</div>"
            ],
            "text/plain": [
              "     instant      dteday  season  yr  ...  windspeed  casual  registered   cnt\n",
              "466      467  2012-04-11       2   1  ...   0.295274     482        4380  4862\n",
              "446      447  2012-03-22       2   1  ...   0.117562    1334        5537  6871\n",
              "717      718  2012-12-18       4   1  ...   0.221404     433        5124  5557\n",
              "412      413  2012-02-17       1   1  ...   0.205846     349        3805  4154\n",
              "251      252  2011-09-09       3   0  ...   0.124379     417        3127  3544\n",
              "\n",
              "[5 rows x 14 columns]"
            ]
          },
          "metadata": {
            "tags": []
          },
          "execution_count": 34
        }
      ]
    },
    {
      "cell_type": "markdown",
      "metadata": {
        "id": "iSV8prmRHE-y",
        "colab_type": "text"
      },
      "source": [
        "DECISION TREE"
      ]
    },
    {
      "cell_type": "code",
      "metadata": {
        "id": "GNuVUfa4Sbgd",
        "colab_type": "code",
        "colab": {
          "base_uri": "https://localhost:8080/",
          "height": 337
        },
        "outputId": "28ce3972-d9b3-4a53-c1cb-9b7f874abac9"
      },
      "source": [
        "# Import decision tree from sklearn library\n",
        "\n",
        "from sklearn.tree import DecisionTreeRegressor\n",
        "train_features_one = train[['season', 'yr', 'mnth', 'holiday', 'weekday', 'weathersit', 'temp', 'windspeed', 'casual', 'registered']].values\n",
        "train_target_feature = train['cnt'].values\n",
        "test_feature = test[['season', 'yr', 'mnth', 'holiday', 'weekday', 'weathersit', 'temp', 'windspeed', 'casual', 'registered']].values\n",
        "test_target_feature = test['cnt'].values\n",
        "train_features_one\n",
        "\n",
        "# Implement decision Tree algorithm\n",
        "# Fit your first decision tree: my_tree_one\n",
        "my_tree_one = DecisionTreeRegressor()\n",
        "my_tree_one = my_tree_one.fit(train_features_one, train_target_feature)\n",
        "print(my_tree_one)\n",
        "\n",
        "# Decision Tree for Regressor\n",
        "# fit_DT = DecisionTreeRegressor(max_depth = 2).fit(train.iloc[:,2:13], train.iloc[:,13])\n",
        "\n",
        "# Apply model on test data\n",
        "predictions_DT = my_tree_one.predict(test_feature)\n",
        "\n",
        "print(predictions_DT)\n",
        "\n",
        "# predict by using predict method\n",
        "\n",
        "# predictions_DT = my_tree_one.predict(test_feature)"
      ],
      "execution_count": 36,
      "outputs": [
        {
          "output_type": "stream",
          "text": [
            "DecisionTreeRegressor(criterion='mse', max_depth=None, max_features=None,\n",
            "                      max_leaf_nodes=None, min_impurity_decrease=0.0,\n",
            "                      min_impurity_split=None, min_samples_leaf=1,\n",
            "                      min_samples_split=2, min_weight_fraction_leaf=0.0,\n",
            "                      presort=False, random_state=None, splitter='best')\n",
            "[4401. 4318. 5375. 3709. 6041. 7870. 7105. 2689. 6969. 2744. 7421. 2162.\n",
            " 6978. 2114. 5572. 2471. 7347. 3577. 1606. 3659. 6917. 3606. 5345. 6691.\n",
            " 7733. 4128. 6269. 7765. 1263. 1815. 4665. 1746. 4891. 4586. 4906. 2115.\n",
            " 2732.  986. 1944. 4150. 1421. 3285. 2744. 5634. 5531. 6169. 7216. 7498.\n",
            " 6824. 4649. 6436. 6203. 6685. 4792. 3744. 3926. 2431. 4687. 7499. 5202.\n",
            " 1985. 4679. 5531. 2802. 4803. 7460. 6691. 3846. 4839. 3348. 1096. 4274.\n",
            " 3606. 6871. 5117. 4991. 1011. 4484. 8555. 3644. 5532. 5923. 4326. 6691.\n",
            " 4302.  822. 6598. 7865. 4630. 5117. 7765. 7129. 3214. 4679. 6639. 3126.\n",
            " 3867. 5062. 3126. 4118. 6398. 4322. 7499. 4862. 6691. 3744. 4549. 5511.\n",
            " 3194. 6544. 6883. 3709. 3830. 2660. 3005. 4661. 4068. 3292. 7494. 4302.\n",
            " 3272. 5499. 4338. 5557. 5323. 6969. 1635. 6606. 7641. 7733. 6883. 3974.\n",
            " 5668. 4123. 7572. 4098. 5810. 4073. 6241.  506. 4127. 1550. 1815. 5499.\n",
            " 1360. 3624. 3376.]\n"
          ],
          "name": "stdout"
        }
      ]
    },
    {
      "cell_type": "code",
      "metadata": {
        "id": "zcKcBkm0MiNP",
        "colab_type": "code",
        "colab": {
          "base_uri": "https://localhost:8080/",
          "height": 35
        },
        "outputId": "4afff6a9-637b-4b86-bc43-111b53bda872"
      },
      "source": [
        "# Calculate MAPE\n",
        "def MAPE(y_true, y_pred):\n",
        "    mape = np.mean(np.abs((y_true - y_pred) / y_true))*100\n",
        "    return mape\n",
        "  \n",
        "MAPE(test_target_feature, predictions_DT)\n",
        "\n",
        "# ErroR is gettting as \"4.84\""
      ],
      "execution_count": 37,
      "outputs": [
        {
          "output_type": "execute_result",
          "data": {
            "text/plain": [
              "3.7806792951346675"
            ]
          },
          "metadata": {
            "tags": []
          },
          "execution_count": 37
        }
      ]
    },
    {
      "cell_type": "code",
      "metadata": {
        "id": "CZztccraNGFZ",
        "colab_type": "code",
        "colab": {
          "base_uri": "https://localhost:8080/",
          "height": 657
        },
        "outputId": "9eb22253-cb63-4ae4-bcc8-0633b97394cf"
      },
      "source": [
        "# control overfitting by setting \"max_depth\" to 10 and \"min_samples_split\" to 5 : my_tree_two\n",
        "max_depth = 8\n",
        "min_samples_split = 4\n",
        "my_tree_two = DecisionTreeRegressor(max_depth = max_depth, min_samples_split = min_samples_split, random_state = 1)\n",
        "my_tree_two = my_tree_two.fit(train_features_one, train_target_feature)\n",
        "print(my_tree_two)\n",
        "\n",
        "predictions_DT_two = my_tree_two.predict(test_feature)\n",
        "print(predictions_DT_two)\n",
        "\n",
        "MAPE(test_target_feature, predictions_DT_two)\n"
      ],
      "execution_count": 38,
      "outputs": [
        {
          "output_type": "stream",
          "text": [
            "DecisionTreeRegressor(criterion='mse', max_depth=8, max_features=None,\n",
            "                      max_leaf_nodes=None, min_impurity_decrease=0.0,\n",
            "                      min_impurity_split=None, min_samples_leaf=1,\n",
            "                      min_samples_split=4, min_weight_fraction_leaf=0.0,\n",
            "                      presort=False, random_state=1, splitter='best')\n",
            "[4396.33333333 4423.         5333.2        3650.41176471 6030.16666667\n",
            " 7798.         7303.4        2689.         6587.8        2727.625\n",
            " 7502.65384615 2139.5        7079.66666667 2139.5        5438.75\n",
            " 2471.         7502.65384615 3650.41176471 1617.         3650.41176471\n",
            " 7058.625      3606.         5317.66666667 6628.         7632.\n",
            " 4123.5        6169.42857143 7502.65384615 1263.         1813.66666667\n",
            " 4652.8        1709.6        4772.63636364 4554.33333333 4984.5\n",
            " 2139.5        2727.625       975.33333333 2053.25       4124.\n",
            " 1439.         3285.         2727.625      5666.         5585.33333333\n",
            " 6186.         7058.625      7486.2        6609.         4691.\n",
            " 6169.42857143 6032.5        6609.         4802.         3744.\n",
            " 3768.66666667 2420.33333333 4609.6        7303.4        5167.76923077\n",
            " 1962.66666667 4652.8        5585.33333333 2802.         4772.63636364\n",
            " 7486.2        6628.         3755.5        4916.66666667 3366.2\n",
            " 1099.25       4423.         3606.         6587.8        4984.5\n",
            " 4937.66666667 1014.33333333 4691.         8458.5        3755.5\n",
            " 5506.         5923.66666667 4187.27272727 6628.         4305.\n",
            "  806.         6609.         7897.25       4609.6        4984.5\n",
            " 7502.65384615 7079.66666667 3351.23076923 4652.8        6998.\n",
            " 3116.25       3935.57142857 5060.66666667 3116.25       4187.27272727\n",
            " 6587.8        4301.25       7303.4        4916.66666667 6628.\n",
            " 3744.         4423.         5511.         3351.23076923 6609.\n",
            " 6741.8        3650.41176471 3935.57142857 2627.         3351.23076923\n",
            " 4666.         4123.5        3351.23076923 7502.65384615 4305.\n",
            " 3351.23076923 5499.         4187.27272727 5506.         5333.2\n",
            " 6587.8        1615.66666667 6692.         7486.2        7632.\n",
            " 6741.8        3987.91666667 5694.33333333 3987.91666667 7632.\n",
            " 4123.5        5810.         4187.27272727 6587.8         623.\n",
            " 4123.5        1535.57142857 1813.66666667 5499.         1366.5\n",
            " 3650.41176471 3650.41176471]\n"
          ],
          "name": "stdout"
        },
        {
          "output_type": "execute_result",
          "data": {
            "text/plain": [
              "3.9522197468032627"
            ]
          },
          "metadata": {
            "tags": []
          },
          "execution_count": 38
        }
      ]
    },
    {
      "cell_type": "code",
      "metadata": {
        "id": "PSgLL-YdNRbx",
        "colab_type": "code",
        "colab": {
          "base_uri": "https://localhost:8080/",
          "height": 70
        },
        "outputId": "f68152a9-d565-480d-e7da-963553d0f33a"
      },
      "source": [
        "# RSS - Residual Sum\n",
        "# test_target_feature, prediction_DT_two\n",
        "rss = ((test_target_feature-predictions_DT_two)**2).sum()\n",
        "print(rss)\n",
        "\n",
        "MSE = np.mean((test_target_feature-predictions_DT_two)**2)\n",
        "print(MSE)\n",
        "\n",
        "#RMSE\n",
        "rmse = np.sqrt(MSE)\n",
        "print(rmse)\n"
      ],
      "execution_count": 39,
      "outputs": [
        {
          "output_type": "stream",
          "text": [
            "8031145.949442501\n",
            "54633.64591457484\n",
            "233.73841343385308\n"
          ],
          "name": "stdout"
        }
      ]
    },
    {
      "cell_type": "code",
      "metadata": {
        "id": "-Sg6urYFwcoK",
        "colab_type": "code",
        "colab": {
          "base_uri": "https://localhost:8080/",
          "height": 70
        },
        "outputId": "bc8e8d85-b7e2-4141-c977-09f05a781f1e"
      },
      "source": [
        "def RMSE(y_test, y_predict):\n",
        "    mse = np.mean((y_test-y_predict)**2)\n",
        "    print(\"Mean Square : \",mse)\n",
        "    rmse = np.sqrt(mse)\n",
        "    print(\"Root Mean Square : \", rmse)\n",
        "    return rmse\n",
        "\n",
        "# MAPE\n",
        "MAPE(test_target_feature, predictions_DT_two)\n",
        "\n",
        "# MAPE : 4.90\n",
        "\n",
        "# RMSE\n",
        "RMSE(test_target_feature, predictions_DT_two)\n",
        "# RMSE: 206.17\n"
      ],
      "execution_count": 40,
      "outputs": [
        {
          "output_type": "stream",
          "text": [
            "Mean Square :  54633.64591457484\n",
            "Root Mean Square :  233.73841343385308\n"
          ],
          "name": "stdout"
        },
        {
          "output_type": "execute_result",
          "data": {
            "text/plain": [
              "233.73841343385308"
            ]
          },
          "metadata": {
            "tags": []
          },
          "execution_count": 40
        }
      ]
    },
    {
      "cell_type": "markdown",
      "metadata": {
        "id": "ydh43VmTyi1a",
        "colab_type": "text"
      },
      "source": [
        "RANDOM FOREST"
      ]
    },
    {
      "cell_type": "code",
      "metadata": {
        "id": "7lJ2vU97ylff",
        "colab_type": "code",
        "colab": {
          "base_uri": "https://localhost:8080/",
          "height": 479
        },
        "outputId": "6114758b-10da-467b-b143-dabec97b1839"
      },
      "source": [
        "# here same features are taking what we took for the Decision Tree\n",
        "# train_feature_one = train[['season', 'yr', 'mnth', 'holiday', 'weekday', 'weathersit', 'temp', 'windspeed', 'casual', 'registered']].values\n",
        "# train_target_feature = train['cnt'].values\n",
        "# test_feature = test[['season', 'yr', 'mnth', 'holiday', 'weekday', 'temp', 'windspeed', 'casual', 'registered']].values\n",
        "# test_target_features = test['cnt'].values\n",
        "# train_feature_one\n",
        "\n",
        "# Instantiate Random Forest and train on new features\n",
        "from sklearn.ensemble import RandomForestRegressor\n",
        "\n",
        "RF_model_one = RandomForestRegressor(n_estimators = 500, random_state = 100).fit(train_features_one, train_target_feature)\n",
        "print(RF_model_one)\n",
        "\n",
        "# Predict the model using Predict function\n",
        "\n",
        "RF_predict_one = RF_model_one.predict(test_feature)\n",
        "\n",
        "print(RF_predict_one)"
      ],
      "execution_count": 41,
      "outputs": [
        {
          "output_type": "stream",
          "text": [
            "RandomForestRegressor(bootstrap=True, criterion='mse', max_depth=None,\n",
            "                      max_features='auto', max_leaf_nodes=None,\n",
            "                      min_impurity_decrease=0.0, min_impurity_split=None,\n",
            "                      min_samples_leaf=1, min_samples_split=2,\n",
            "                      min_weight_fraction_leaf=0.0, n_estimators=500,\n",
            "                      n_jobs=None, oob_score=False, random_state=100, verbose=0,\n",
            "                      warm_start=False)\n",
            "[4357.176 4417.624 5376.254 3731.278 6186.198 7672.904 7047.734 2375.766\n",
            " 6436.66  2799.2   7348.506 2072.604 6801.79  2038.538 5745.612 2420.214\n",
            " 7275.474 3521.906 1614.844 3828.61  7028.992 3524.824 5279.124 6807.006\n",
            " 7402.482 4142.142 6300.586 7539.752 1372.354 1717.428 4767.382 1472.748\n",
            " 4852.022 4569.706 4920.014 2142.684 2763.736  988.136 1961.878 4212.366\n",
            " 1410.67  3861.034 2719.264 5627.736 5591.214 6213.306 7305.996 7508.494\n",
            " 5903.962 4652.318 6369.23  5729.59  6644.434 4837.    4331.868 3996.994\n",
            " 2442.054 4733.192 7129.116 5649.108 1972.61  4603.468 5761.678 3022.064\n",
            " 4760.402 7746.65  6609.556 3789.106 4804.268 3947.328 1218.024 4421.374\n",
            " 3818.568 6672.372 5040.692 4987.648 1076.604 4517.734 8202.848 3734.54\n",
            " 5598.462 5016.382 4500.15  6630.326 4225.24   876.77  6605.836 7995.486\n",
            " 4584.744 5039.702 7933.646 6847.904 3247.528 4611.688 6097.778 3181.866\n",
            " 3837.406 5020.124 3082.048 4135.626 6920.32  4411.398 7115.77  4813.732\n",
            " 6812.062 4094.344 4795.332 5394.264 3281.934 6376.276 6811.374 3718.104\n",
            " 3846.438 2666.064 3164.114 4737.858 4068.828 3353.608 7539.646 4394.642\n",
            " 3310.554 5376.386 4372.168 5589.096 5372.216 6598.306 1261.03  6814.282\n",
            " 7616.278 7568.612 6910.47  4056.812 6086.692 4128.044 7276.902 4145.112\n",
            " 6281.288 4116.294 6927.464  681.956 4116.924 1547.72  1511.034 5334.48\n",
            " 1375.806 3606.68  3532.154]\n"
          ],
          "name": "stdout"
        }
      ]
    },
    {
      "cell_type": "code",
      "metadata": {
        "id": "FWTJ8HMT3iLU",
        "colab_type": "code",
        "colab": {
          "base_uri": "https://localhost:8080/",
          "height": 35
        },
        "outputId": "7763e05d-a0cb-4032-ac9c-34d01d636ed1"
      },
      "source": [
        "# Evalute Random Forest using RMSE\n",
        "MAPE(test_target_feature, RF_predict_one)\n",
        "\n",
        "# Error rate is 2.29\n",
        "# Here it is stating accuracy of the model increases"
      ],
      "execution_count": 42,
      "outputs": [
        {
          "output_type": "execute_result",
          "data": {
            "text/plain": [
              "1.7643703201024141"
            ]
          },
          "metadata": {
            "tags": []
          },
          "execution_count": 42
        }
      ]
    },
    {
      "cell_type": "code",
      "metadata": {
        "id": "izhZDnOk39I-",
        "colab_type": "code",
        "colab": {
          "base_uri": "https://localhost:8080/",
          "height": 70
        },
        "outputId": "d4235ced-cab5-4184-9df9-1eb816a892cb"
      },
      "source": [
        "# Evaluate model using RMSE\n",
        "\n",
        "RMSE(test_target_feature, RF_predict_one)\n",
        "\n",
        "# RMSE = 112.42"
      ],
      "execution_count": 43,
      "outputs": [
        {
          "output_type": "stream",
          "text": [
            "Mean Square :  9878.124835918372\n",
            "Root Mean Square :  99.38875608396742\n"
          ],
          "name": "stdout"
        },
        {
          "output_type": "execute_result",
          "data": {
            "text/plain": [
              "99.38875608396742"
            ]
          },
          "metadata": {
            "tags": []
          },
          "execution_count": 43
        }
      ]
    },
    {
      "cell_type": "code",
      "metadata": {
        "id": "umu95PqGI24m",
        "colab_type": "code",
        "colab": {
          "base_uri": "https://localhost:8080/",
          "height": 52
        },
        "outputId": "e1030932-c9ed-4064-d51c-309b16f91514"
      },
      "source": [
        "import sklearn.feature_selection as fs \n",
        "# feature selection library in scikit learn\n",
        "\n",
        "mir_result = fs.mutual_info_regression(train_features_one, train_target_feature)  # mutual information regression feature ordering\n",
        "mir_result\n"
      ],
      "execution_count": 44,
      "outputs": [
        {
          "output_type": "execute_result",
          "data": {
            "text/plain": [
              "array([0.22625843, 0.26222559, 0.35670541, 0.00835316, 0.05459998,\n",
              "       0.07909394, 0.41817975, 0.03170229, 0.67068768, 1.69179372])"
            ]
          },
          "metadata": {
            "tags": []
          },
          "execution_count": 44
        }
      ]
    },
    {
      "cell_type": "code",
      "metadata": {
        "id": "QkLpbiS8WI-T",
        "colab_type": "code",
        "colab": {
          "base_uri": "https://localhost:8080/",
          "height": 55
        },
        "outputId": "2cf6b4a6-e746-4305-eecf-58f8232e6c92"
      },
      "source": [
        "# TUNING RANDOM FOREST MODEL\n",
        "importances = list(RF_model_one.feature_importances_)\n",
        "print(importances)\n",
        "\n",
        "# List of tuples with variable and importance\n",
        "feature_importances = [(feature, round(importance, 2)) for feature, importance in zip(train_features_one, importances)]\n",
        "\n",
        "# Sort the feature importances by most important first\n",
        "feature_importances = sorted(feature_importances, key = lambda x: x[1], reverse = True)\n",
        "\n",
        "# Print out the feature and importances"
      ],
      "execution_count": 45,
      "outputs": [
        {
          "output_type": "stream",
          "text": [
            "[0.00020117524602127448, 0.0006746698881821881, 0.0007891533746447613, 5.514964672806093e-05, 0.0005808024629086168, 0.00015242329755047707, 0.0012478818590323465, 0.0011285310739394057, 0.0950517425942101, 0.9001184705567827]\n"
          ],
          "name": "stdout"
        }
      ]
    },
    {
      "cell_type": "code",
      "metadata": {
        "id": "LwVJMCygqkLZ",
        "colab_type": "code",
        "colab": {
          "base_uri": "https://localhost:8080/",
          "height": 195
        },
        "outputId": "c866d516-15ed-495e-8d5e-e7912773c324"
      },
      "source": [
        "train_variables_one_1 = train[['season', 'yr', 'mnth', 'holiday', 'weekday', 'weathersit', 'temp', 'windspeed', 'casual', 'registered']]\n",
        "train_variables_one_1\n",
        "\n",
        "for name, importance in zip(train_variables_one_1, mir_result):\n",
        "    print(name, \"=\", importance)"
      ],
      "execution_count": 46,
      "outputs": [
        {
          "output_type": "stream",
          "text": [
            "season = 0.22625843348699837\n",
            "yr = 0.26222558573343613\n",
            "mnth = 0.3567054077377274\n",
            "holiday = 0.008353161424063282\n",
            "weekday = 0.05459998024073176\n",
            "weathersit = 0.07909393945172005\n",
            "temp = 0.4181797470054942\n",
            "windspeed = 0.0317022857967415\n",
            "casual = 0.6706876800333501\n",
            "registered = 1.6917937228404192\n"
          ],
          "name": "stdout"
        }
      ]
    },
    {
      "cell_type": "code",
      "metadata": {
        "id": "D2cCJHOSr53l",
        "colab_type": "code",
        "colab": {
          "base_uri": "https://localhost:8080/",
          "height": 368
        },
        "outputId": "847827f8-3ba1-4ae4-e2b9-96b7b79a3166"
      },
      "source": [
        "# List of x locations for plotting\n",
        "x_values = list(range(len(mir_result)))\n",
        "\n",
        "# Make a bar chart\n",
        "plt.bar(x_values, mir_result, orientation = 'vertical', color = 'r', edgecolor = 'k', linewidth = 1.2)\n",
        "\n",
        "# Tick labels for x- axis\n",
        "plt.xticks(x_values, train_variables_one_1, rotation = 'vertical')\n",
        "\n",
        "# Axis Labels and title\n",
        "plt.ylabel('Importance')\n",
        "plt.xlabel('Variable')\n",
        "plt.title('Variable Importances')"
      ],
      "execution_count": 47,
      "outputs": [
        {
          "output_type": "execute_result",
          "data": {
            "text/plain": [
              "Text(0.5, 1.0, 'Variable Importances')"
            ]
          },
          "metadata": {
            "tags": []
          },
          "execution_count": 47
        },
        {
          "output_type": "display_data",
          "data": {
            "image/png": "[encoded data removed]",
            "text/plain": [
              "<Figure size 432x288 with 1 Axes>"
            ]
          },
          "metadata": {
            "tags": []
          }
        }
      ]
    },
    {
      "cell_type": "code",
      "metadata": {
        "id": "iuh065zptW_o",
        "colab_type": "code",
        "colab": {
          "base_uri": "https://localhost:8080/",
          "height": 479
        },
        "outputId": "d05b8e82-26c1-4297-ab02-8c0bef2e10a9"
      },
      "source": [
        "# The above graph is stating that only few features are imp to decide the accuracy of model\n",
        "# Now we will check our model accuracy by reducing the features\n",
        "train_feature_two = train[['yr', 'mnth', 'weekday', 'workingday', 'temp', 'casual', 'registered']].values\n",
        "test_feature_two = test[['yr', 'mnth', 'weekday', 'workingday', 'temp', 'casual', 'registered']].values\n",
        "\n",
        "# built random forest model\n",
        "Rf_model_two = RandomForestRegressor(n_estimators = 500, random_state = 100).fit(train_feature_two, train_target_feature)\n",
        "print(Rf_model_two)\n",
        "\n",
        "# Predict the model using predict function\n",
        "Rf_predict_two = Rf_model_two.predict(test_feature_two)\n",
        "\n",
        "print(Rf_predict_two)"
      ],
      "execution_count": 48,
      "outputs": [
        {
          "output_type": "stream",
          "text": [
            "RandomForestRegressor(bootstrap=True, criterion='mse', max_depth=None,\n",
            "                      max_features='auto', max_leaf_nodes=None,\n",
            "                      min_impurity_decrease=0.0, min_impurity_split=None,\n",
            "                      min_samples_leaf=1, min_samples_split=2,\n",
            "                      min_weight_fraction_leaf=0.0, n_estimators=500,\n",
            "                      n_jobs=None, oob_score=False, random_state=100, verbose=0,\n",
            "                      warm_start=False)\n",
            "[4369.338 4424.916 5365.614 3731.886 6220.428 7689.136 7047.35  2375.08\n",
            " 6391.268 2799.104 7349.328 2068.726 6812.    2029.168 5734.388 2435.936\n",
            " 7279.49  3518.978 1612.25  3830.166 7012.138 3539.654 5275.322 6804.5\n",
            " 7469.868 4141.204 6249.382 7547.908 1340.616 1720.142 4767.266 1474.248\n",
            " 4861.226 4572.308 4919.874 2130.704 2764.684  980.498 1967.032 4182.28\n",
            " 1382.89  3846.488 2719.814 5632.868 5591.806 6212.798 7296.702 7470.858\n",
            " 5905.02  4711.578 6354.974 5758.448 6608.4   4837.77  4347.316 4001.618\n",
            " 2441.286 4726.846 7106.35  5615.858 1983.322 4610.828 5790.26  3019.594\n",
            " 4767.792 7792.478 6610.72  3792.716 4798.75  3953.872 1207.152 4307.638\n",
            " 3821.322 6620.606 5044.494 4998.422 1097.468 4523.82  8217.72  3745.678\n",
            " 5591.184 5020.904 4527.572 6628.948 4231.564  854.416 6626.152 8013.05\n",
            " 4576.132 5053.856 7942.952 6887.066 3245.972 4621.718 6054.388 3179.57\n",
            " 3835.794 5010.31  3066.21  4126.176 6939.708 4404.312 7076.138 4789.75\n",
            " 6800.83  4094.504 4806.382 5331.662 3272.152 6407.156 6817.636 3711.432\n",
            " 3847.468 2661.48  3154.524 4745.242 4070.608 3340.526 7542.128 4369.086\n",
            " 3296.04  5366.082 4362.43  5568.112 5367.264 6589.244 1280.88  6857.334\n",
            " 7545.038 7622.33  6897.738 4051.968 6080.79  4132.992 7356.404 4147.906\n",
            " 6317.19  4091.506 6931.904  626.252 4122.442 1547.634 1515.904 5332.224\n",
            " 1358.946 3595.778 3520.06 ]\n"
          ],
          "name": "stdout"
        }
      ]
    },
    {
      "cell_type": "code",
      "metadata": {
        "id": "nkl800mlyH3j",
        "colab_type": "code",
        "colab": {
          "base_uri": "https://localhost:8080/",
          "height": 35
        },
        "outputId": "8af313de-988e-482a-adb5-c0bcac71277f"
      },
      "source": [
        "# Evaluate Randome forest using MAPE\n",
        "MAPE(test_target_feature, Rf_predict_two)\n",
        "\n",
        "# Error rate : 2.074\n",
        "# Here it is stating that the accuracy of the model increased slightly"
      ],
      "execution_count": 49,
      "outputs": [
        {
          "output_type": "execute_result",
          "data": {
            "text/plain": [
              "1.6713230810645308"
            ]
          },
          "metadata": {
            "tags": []
          },
          "execution_count": 49
        }
      ]
    },
    {
      "cell_type": "code",
      "metadata": {
        "id": "2umP3vSGygEh",
        "colab_type": "code",
        "colab": {
          "base_uri": "https://localhost:8080/",
          "height": 70
        },
        "outputId": "df72b886-13cb-4ed6-bef5-4cdf15b2c660"
      },
      "source": [
        "# Evaluate the model using RMSE\n",
        "\n",
        "RMSE(test_target_feature, Rf_predict_two)\n",
        "\n",
        "# RMSE : 106.282\n",
        "# Accuracy and RMSE is improved"
      ],
      "execution_count": 50,
      "outputs": [
        {
          "output_type": "stream",
          "text": [
            "Mean Square :  7805.065826911562\n",
            "Root Mean Square :  88.34628360554598\n"
          ],
          "name": "stdout"
        },
        {
          "output_type": "execute_result",
          "data": {
            "text/plain": [
              "88.34628360554598"
            ]
          },
          "metadata": {
            "tags": []
          },
          "execution_count": 50
        }
      ]
    },
    {
      "cell_type": "markdown",
      "metadata": {
        "id": "YOxshkSI76rm",
        "colab_type": "text"
      },
      "source": [
        "LINEAR REGRESSION"
      ]
    },
    {
      "cell_type": "code",
      "metadata": {
        "id": "VCV6IsHD7XsI",
        "colab_type": "code",
        "colab": {
          "base_uri": "https://localhost:8080/",
          "height": 631
        },
        "outputId": "e6e6f360-4524-4a18-a59d-21c858fa554a"
      },
      "source": [
        "# Here same  features we will take what we took for the Linear Regression\n",
        "# train_features_one = train[['season', 'yr', 'mnth', 'holiday', 'weekday', 'weathersit', 'temp', 'windspeed', 'casual', 'registered']].values\n",
        "# train_target_feature = train['cnt'].values\n",
        "# test_feature = test[['season', 'yr', 'mnth', 'holiday', 'weekday', 'weathersit', 'temp', 'windspeed', 'casual', 'registered']].values\n",
        "# test_target_feature = test['cnt'].values\n",
        "# test_target_feature\n",
        "\n",
        "# import linear regression\n",
        "# OLS : Ordinary Least Square\n",
        "\n",
        "import statsmodels.api as sm\n",
        "\n",
        "# develop Linear Regression model using sm.ols\n",
        "\n",
        "linear_regression_model = sm.OLS(train_target_feature, train_features_one).fit()\n",
        "\n",
        "# Summary of the model \n",
        "linear_regression_model.summary()\n",
        "\n",
        "# predict the model\n",
        "\n",
        "# predict_LR = linear_regression_model.predict(test_feature)\n",
        "\n",
        "# print(predict_LR)"
      ],
      "execution_count": 55,
      "outputs": [
        {
          "output_type": "execute_result",
          "data": {
            "text/html": [
              "<table class=\"simpletable\">\n",
              "<caption>OLS Regression Results</caption>\n",
              "<tr>\n",
              "  <th>Dep. Variable:</th>            <td>y</td>        <th>  R-squared (uncentered):</th>       <td>   1.000</td> \n",
              "</tr>\n",
              "<tr>\n",
              "  <th>Model:</th>                   <td>OLS</td>       <th>  Adj. R-squared (uncentered):</th>  <td>   1.000</td> \n",
              "</tr>\n",
              "<tr>\n",
              "  <th>Method:</th>             <td>Least Squares</td>  <th>  F-statistic:       </th>           <td>1.693e+33</td>\n",
              "</tr>\n",
              "<tr>\n",
              "  <th>Date:</th>             <td>Tue, 01 Oct 2019</td> <th>  Prob (F-statistic):</th>            <td>  0.00</td>  \n",
              "</tr>\n",
              "<tr>\n",
              "  <th>Time:</th>                 <td>09:03:09</td>     <th>  Log-Likelihood:    </th>           <td>  15373.</td> \n",
              "</tr>\n",
              "<tr>\n",
              "  <th>No. Observations:</th>      <td>   584</td>      <th>  AIC:               </th>          <td>-3.073e+04</td>\n",
              "</tr>\n",
              "<tr>\n",
              "  <th>Df Residuals:</th>          <td>   574</td>      <th>  BIC:               </th>          <td>-3.068e+04</td>\n",
              "</tr>\n",
              "<tr>\n",
              "  <th>Df Model:</th>              <td>    10</td>      <th>                     </th>               <td> </td>    \n",
              "</tr>\n",
              "<tr>\n",
              "  <th>Covariance Type:</th>      <td>nonrobust</td>    <th>                     </th>               <td> </td>    \n",
              "</tr>\n",
              "</table>\n",
              "<table class=\"simpletable\">\n",
              "<tr>\n",
              "   <td></td>      <th>coef</th>     <th>std err</th>      <th>t</th>      <th>P>|t|</th>  <th>[0.025</th>    <th>0.975]</th>  \n",
              "</tr>\n",
              "<tr>\n",
              "  <th>x1</th>  <td>  8.74e-13</td> <td> 6.69e-14</td> <td>   13.072</td> <td> 0.000</td> <td> 7.43e-13</td> <td> 1.01e-12</td>\n",
              "</tr>\n",
              "<tr>\n",
              "  <th>x2</th>  <td> 1.023e-12</td> <td> 1.17e-13</td> <td>    8.767</td> <td> 0.000</td> <td> 7.94e-13</td> <td> 1.25e-12</td>\n",
              "</tr>\n",
              "<tr>\n",
              "  <th>x3</th>  <td>-1.563e-13</td> <td> 1.95e-14</td> <td>   -8.023</td> <td> 0.000</td> <td>-1.95e-13</td> <td>-1.18e-13</td>\n",
              "</tr>\n",
              "<tr>\n",
              "  <th>x4</th>  <td>-8.811e-13</td> <td> 2.21e-13</td> <td>   -3.988</td> <td> 0.000</td> <td>-1.32e-12</td> <td>-4.47e-13</td>\n",
              "</tr>\n",
              "<tr>\n",
              "  <th>x5</th>  <td> 2.487e-14</td> <td> 1.86e-14</td> <td>    1.338</td> <td> 0.181</td> <td>-1.16e-14</td> <td> 6.14e-14</td>\n",
              "</tr>\n",
              "<tr>\n",
              "  <th>x6</th>  <td> 5.684e-14</td> <td> 6.52e-14</td> <td>    0.872</td> <td> 0.383</td> <td>-7.11e-14</td> <td> 1.85e-13</td>\n",
              "</tr>\n",
              "<tr>\n",
              "  <th>x7</th>  <td> 2.274e-13</td> <td> 3.04e-13</td> <td>    0.749</td> <td> 0.454</td> <td>-3.69e-13</td> <td> 8.24e-13</td>\n",
              "</tr>\n",
              "<tr>\n",
              "  <th>x8</th>  <td> 1.137e-13</td> <td>  4.1e-13</td> <td>    0.277</td> <td> 0.782</td> <td>-6.91e-13</td> <td> 9.19e-13</td>\n",
              "</tr>\n",
              "<tr>\n",
              "  <th>x9</th>  <td>    1.0000</td> <td> 7.09e-17</td> <td> 1.41e+16</td> <td> 0.000</td> <td>    1.000</td> <td>    1.000</td>\n",
              "</tr>\n",
              "<tr>\n",
              "  <th>x10</th> <td>    1.0000</td> <td> 4.57e-17</td> <td> 2.19e+16</td> <td> 0.000</td> <td>    1.000</td> <td>    1.000</td>\n",
              "</tr>\n",
              "</table>\n",
              "<table class=\"simpletable\">\n",
              "<tr>\n",
              "  <th>Omnibus:</th>       <td>24.494</td> <th>  Durbin-Watson:     </th> <td>   1.320</td>\n",
              "</tr>\n",
              "<tr>\n",
              "  <th>Prob(Omnibus):</th> <td> 0.000</td> <th>  Jarque-Bera (JB):  </th> <td>  37.590</td>\n",
              "</tr>\n",
              "<tr>\n",
              "  <th>Skew:</th>          <td> 0.336</td> <th>  Prob(JB):          </th> <td>6.88e-09</td>\n",
              "</tr>\n",
              "<tr>\n",
              "  <th>Kurtosis:</th>      <td> 4.045</td> <th>  Cond. No.          </th> <td>4.56e+04</td>\n",
              "</tr>\n",
              "</table><br/><br/>Warnings:<br/>[1] Standard Errors assume that the covariance matrix of the errors is correctly specified.<br/>[2] The condition number is large, 4.56e+04. This might indicate that there are<br/>strong multicollinearity or other numerical problems."
            ],
            "text/plain": [
              "<class 'statsmodels.iolib.summary.Summary'>\n",
              "\"\"\"\n",
              "                                 OLS Regression Results                                \n",
              "=======================================================================================\n",
              "Dep. Variable:                      y   R-squared (uncentered):                   1.000\n",
              "Model:                            OLS   Adj. R-squared (uncentered):              1.000\n",
              "Method:                 Least Squares   F-statistic:                          1.693e+33\n",
              "Date:                Tue, 01 Oct 2019   Prob (F-statistic):                        0.00\n",
              "Time:                        09:03:09   Log-Likelihood:                          15373.\n",
              "No. Observations:                 584   AIC:                                 -3.073e+04\n",
              "Df Residuals:                     574   BIC:                                 -3.068e+04\n",
              "Df Model:                          10                                                  \n",
              "Covariance Type:            nonrobust                                                  \n",
              "==============================================================================\n",
              "                 coef    std err          t      P>|t|      [0.025      0.975]\n",
              "------------------------------------------------------------------------------\n",
              "x1           8.74e-13   6.69e-14     13.072      0.000    7.43e-13    1.01e-12\n",
              "x2          1.023e-12   1.17e-13      8.767      0.000    7.94e-13    1.25e-12\n",
              "x3         -1.563e-13   1.95e-14     -8.023      0.000   -1.95e-13   -1.18e-13\n",
              "x4         -8.811e-13   2.21e-13     -3.988      0.000   -1.32e-12   -4.47e-13\n",
              "x5          2.487e-14   1.86e-14      1.338      0.181   -1.16e-14    6.14e-14\n",
              "x6          5.684e-14   6.52e-14      0.872      0.383   -7.11e-14    1.85e-13\n",
              "x7          2.274e-13   3.04e-13      0.749      0.454   -3.69e-13    8.24e-13\n",
              "x8          1.137e-13    4.1e-13      0.277      0.782   -6.91e-13    9.19e-13\n",
              "x9             1.0000   7.09e-17   1.41e+16      0.000       1.000       1.000\n",
              "x10            1.0000   4.57e-17   2.19e+16      0.000       1.000       1.000\n",
              "==============================================================================\n",
              "Omnibus:                       24.494   Durbin-Watson:                   1.320\n",
              "Prob(Omnibus):                  0.000   Jarque-Bera (JB):               37.590\n",
              "Skew:                           0.336   Prob(JB):                     6.88e-09\n",
              "Kurtosis:                       4.045   Cond. No.                     4.56e+04\n",
              "==============================================================================\n",
              "\n",
              "Warnings:\n",
              "[1] Standard Errors assume that the covariance matrix of the errors is correctly specified.\n",
              "[2] The condition number is large, 4.56e+04. This might indicate that there are\n",
              "strong multicollinearity or other numerical problems.\n",
              "\"\"\""
            ]
          },
          "metadata": {
            "tags": []
          },
          "execution_count": 55
        }
      ]
    },
    {
      "cell_type": "code",
      "metadata": {
        "id": "GSo3FYxTkBE6",
        "colab_type": "code",
        "colab": {
          "base_uri": "https://localhost:8080/",
          "height": 248
        },
        "outputId": "f86a70ac-6217-44a2-c314-029e7a6c68f4"
      },
      "source": [
        "# predict the model\n",
        "\n",
        "predict_LR = linear_regression_model.predict(test_feature)\n",
        "\n",
        "print(predict_LR)"
      ],
      "execution_count": 57,
      "outputs": [
        {
          "output_type": "stream",
          "text": [
            "[4332. 4511. 5315. 3740. 6304. 7767. 6998. 2429. 6207. 2808. 7338. 1996.\n",
            " 6891. 1927. 5713. 2417. 7286. 3487. 1600. 3894. 6879. 3649. 5202. 6825.\n",
            " 7691. 4186. 6230. 7605. 1321. 1712. 4866. 1510. 4864. 4592. 4911. 2134.\n",
            " 2832. 1000. 1913. 3910. 1406. 3785. 2633. 5633. 5629. 6196. 7264. 7458.\n",
            " 6053. 4788. 6457. 5847. 6536. 4844. 4191. 4067. 2416. 4725. 7055. 5582.\n",
            " 1977. 4595. 5976. 3068. 4763. 8120. 6591. 3767. 4826. 3820. 1162. 4333.\n",
            " 3873. 6772. 5010. 4985. 1317. 4758. 8395. 3786. 5611. 5119. 4459. 6569.\n",
            " 4294.  920. 6597. 8227. 4563. 5046. 8009. 6883. 3163. 4608. 5895. 3141.\n",
            " 3777. 4972. 2927. 4066. 7030. 4363. 7006. 4773. 6786. 4036. 4840. 5409.\n",
            " 3214. 6359. 6784. 3727. 3831. 2566. 3053. 4727. 3974. 3322. 7580. 4381.\n",
            " 3333. 5259. 4401. 5566. 5260. 6734. 1495. 6855. 7410. 7693. 6966. 4058.\n",
            " 5986. 4105. 7393. 4270. 6536. 4086. 6904.  683. 4120. 1530. 1536. 5170.\n",
            " 1301. 3598. 3422.]\n"
          ],
          "name": "stdout"
        }
      ]
    },
    {
      "cell_type": "code",
      "metadata": {
        "id": "WmnqEZCXjzFR",
        "colab_type": "code",
        "colab": {
          "base_uri": "https://localhost:8080/",
          "height": 70
        },
        "outputId": "cede5fba-ce79-477b-9687-a72a97b9f64a"
      },
      "source": [
        "# Evaluate using MAPE\n",
        "MAPE(test_target_feature, predict_LR)\n",
        "# MAPE is 1.97\n",
        "\n",
        "# Predict the model using RMSE\n",
        "RMSE(test_target_feature, predict_LR)\n",
        "# RMSE : 8.73\n",
        "\n"
      ],
      "execution_count": 58,
      "outputs": [
        {
          "output_type": "stream",
          "text": [
            "Mean Square :  7.629088196346324e-25\n",
            "Root Mean Square :  8.734465179017158e-13\n"
          ],
          "name": "stdout"
        },
        {
          "output_type": "execute_result",
          "data": {
            "text/plain": [
              "8.734465179017158e-13"
            ]
          },
          "metadata": {
            "tags": []
          },
          "execution_count": 58
        }
      ]
    }
  ]
}